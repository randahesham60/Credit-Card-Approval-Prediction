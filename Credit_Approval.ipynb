{
  "nbformat": 4,
  "nbformat_minor": 0,
  "metadata": {
    "colab": {
      "provenance": [],
      "collapsed_sections": [
        "Huo64ypjd3Ov",
        "21dalUDXr_IW",
        "CzGVvblV25oO",
        "tvFCPCz070aL",
        "3Wlk3qSHq7Xv"
      ],
      "authorship_tag": "ABX9TyPAFYDTH/5bvgXEtw3DfGWD"
    },
    "kernelspec": {
      "name": "python3",
      "display_name": "Python 3"
    },
    "language_info": {
      "name": "python"
    },
    "gpuClass": "standard"
  },
  "cells": [
    {
      "cell_type": "markdown",
      "source": [
        "Randa Hesham\n",
        "\n",
        "---"
      ],
      "metadata": {
        "id": "BlSJAXeBkkDW"
      }
    },
    {
      "cell_type": "markdown",
      "source": [
        "# Credit Card Approval Prediction"
      ],
      "metadata": {
        "id": "AZlO_Z1tkrOH"
      }
    },
    {
      "cell_type": "markdown",
      "source": [
        "<u>**Business Challenge:**</u>\n",
        "\n",
        "Credit score cards are a common risk control method in the financial industry. It uses personal information and data submitted by credit card applicants to predict the probability of future defaults and credit card borrowings. The bank is able to decide whether to issue a credit card to the applicant. Credit scores can objectively quantify the magnitude of risk.\n",
        "\n",
        "<u>**Problem Statement**:</u> \n",
        "\n",
        "Build a machine learning model to predict if an applicant is 'good' or 'bad' client, you should use some techique, such as vintage analysis to construct you label."
      ],
      "metadata": {
        "id": "2fZQMMl_tP3t"
      }
    },
    {
      "cell_type": "markdown",
      "source": [
        "## Import Python Libraries"
      ],
      "metadata": {
        "id": "72oDw-kCrOHU"
      }
    },
    {
      "cell_type": "code",
      "source": [
        "import warnings\n",
        "warnings.filterwarnings('ignore')\n",
        "\n",
        "import pandas as pd\n",
        "import numpy as np\n",
        "import matplotlib.pyplot as plt\n",
        "import seaborn as sns\n",
        "import numpy as np\n",
        "from sklearn.model_selection import train_test_split\n",
        "from imblearn.over_sampling import SMOTE\n",
        "from collections import Counter\n",
        "from sklearn.preprocessing import StandardScaler\n",
        "from sklearn.linear_model import LogisticRegression\n",
        "from sklearn.neighbors import KNeighborsClassifier\n",
        "from sklearn.svm import SVC\n",
        "from xgboost import XGBClassifier\n",
        "from sklearn.tree import DecisionTreeClassifier\n",
        "from sklearn.ensemble import RandomForestClassifier\n",
        "from sklearn.metrics import f1_score, accuracy_score, precision_score, recall_score"
      ],
      "metadata": {
        "id": "U94wpBiOmXwJ"
      },
      "execution_count": null,
      "outputs": []
    },
    {
      "cell_type": "markdown",
      "source": [
        "## Set Up the Environment"
      ],
      "metadata": {
        "id": "s5XLJDO1rmil"
      }
    },
    {
      "cell_type": "code",
      "source": [
        "pd.options.display.float_format = '{:,.2f}'.format\n",
        "pd.set_option('display.width', 85)\n",
        "pd.set_option('display.max_columns', 10)"
      ],
      "metadata": {
        "id": "enWNCuCbSsyH"
      },
      "execution_count": null,
      "outputs": []
    },
    {
      "cell_type": "markdown",
      "source": [
        "## Load Datasets"
      ],
      "metadata": {
        "id": "Bv0g4v8OrtSN"
      }
    },
    {
      "cell_type": "markdown",
      "source": [
        "Dataset: [kaggle](https://www.kaggle.com/rikdifos/credit-card-approval-prediction)"
      ],
      "metadata": {
        "id": "VzOZk0-YcJ2r"
      }
    },
    {
      "cell_type": "code",
      "source": [
        "app = pd.read_csv('application_record.csv', low_memory=False) # low_memory reduces memory usage during the import process\n",
        "credit = pd.read_csv('credit_record.csv', low_memory=False) # low_memory reduces memory usage during the import process"
      ],
      "metadata": {
        "id": "H9MrtaZRSwc8"
      },
      "execution_count": null,
      "outputs": []
    },
    {
      "cell_type": "markdown",
      "source": [
        "## Explanatory Data Analysis (EDA)"
      ],
      "metadata": {
        "id": "6JexbuAWry2j"
      }
    },
    {
      "cell_type": "markdown",
      "source": [
        "### Quick Glimpse of the Data"
      ],
      "metadata": {
        "id": "Huo64ypjd3Ov"
      }
    },
    {
      "cell_type": "code",
      "source": [
        "app"
      ],
      "metadata": {
        "colab": {
          "base_uri": "https://localhost:8080/",
          "height": 626
        },
        "id": "4IdNUG1RrZ-X",
        "outputId": "042b7290-43f0-491d-cd71-013a209146c5"
      },
      "execution_count": null,
      "outputs": [
        {
          "output_type": "execute_result",
          "data": {
            "text/plain": [
              "             ID CODE_GENDER FLAG_OWN_CAR FLAG_OWN_REALTY  CNT_CHILDREN  \\\n",
              "0       5008804           M            Y               Y             0   \n",
              "1       5008805           M            Y               Y             0   \n",
              "2       5008806           M            Y               Y             0   \n",
              "3       5008808           F            N               Y             0   \n",
              "4       5008809           F            N               Y             0   \n",
              "...         ...         ...          ...             ...           ...   \n",
              "438552  6840104           M            N               Y             0   \n",
              "438553  6840222           F            N               N             0   \n",
              "438554  6841878           F            N               N             0   \n",
              "438555  6842765           F            N               Y             0   \n",
              "438556  6842885           F            N               Y             0   \n",
              "\n",
              "        AMT_INCOME_TOTAL      NAME_INCOME_TYPE            NAME_EDUCATION_TYPE  \\\n",
              "0             427,500.00               Working               Higher education   \n",
              "1             427,500.00               Working               Higher education   \n",
              "2             112,500.00               Working  Secondary / secondary special   \n",
              "3             270,000.00  Commercial associate  Secondary / secondary special   \n",
              "4             270,000.00  Commercial associate  Secondary / secondary special   \n",
              "...                  ...                   ...                            ...   \n",
              "438552        135,000.00             Pensioner  Secondary / secondary special   \n",
              "438553        103,500.00               Working  Secondary / secondary special   \n",
              "438554         54,000.00  Commercial associate               Higher education   \n",
              "438555         72,000.00             Pensioner  Secondary / secondary special   \n",
              "438556        121,500.00               Working  Secondary / secondary special   \n",
              "\n",
              "          NAME_FAMILY_STATUS  NAME_HOUSING_TYPE  DAYS_BIRTH  DAYS_EMPLOYED  \\\n",
              "0             Civil marriage   Rented apartment      -12005          -4542   \n",
              "1             Civil marriage   Rented apartment      -12005          -4542   \n",
              "2                    Married  House / apartment      -21474          -1134   \n",
              "3       Single / not married  House / apartment      -19110          -3051   \n",
              "4       Single / not married  House / apartment      -19110          -3051   \n",
              "...                      ...                ...         ...            ...   \n",
              "438552             Separated  House / apartment      -22717         365243   \n",
              "438553  Single / not married  House / apartment      -15939          -3007   \n",
              "438554  Single / not married       With parents       -8169           -372   \n",
              "438555               Married  House / apartment      -21673         365243   \n",
              "438556               Married  House / apartment      -18858          -1201   \n",
              "\n",
              "        FLAG_MOBIL  FLAG_WORK_PHONE  FLAG_PHONE  FLAG_EMAIL OCCUPATION_TYPE  \\\n",
              "0                1                1           0           0             NaN   \n",
              "1                1                1           0           0             NaN   \n",
              "2                1                0           0           0  Security staff   \n",
              "3                1                0           1           1     Sales staff   \n",
              "4                1                0           1           1     Sales staff   \n",
              "...            ...              ...         ...         ...             ...   \n",
              "438552           1                0           0           0             NaN   \n",
              "438553           1                0           0           0        Laborers   \n",
              "438554           1                1           0           0     Sales staff   \n",
              "438555           1                0           0           0             NaN   \n",
              "438556           1                0           1           0     Sales staff   \n",
              "\n",
              "        CNT_FAM_MEMBERS  \n",
              "0                  2.00  \n",
              "1                  2.00  \n",
              "2                  2.00  \n",
              "3                  1.00  \n",
              "4                  1.00  \n",
              "...                 ...  \n",
              "438552             1.00  \n",
              "438553             1.00  \n",
              "438554             1.00  \n",
              "438555             2.00  \n",
              "438556             2.00  \n",
              "\n",
              "[438557 rows x 18 columns]"
            ],
            "text/html": [
              "\n",
              "  <div id=\"df-34b191bc-4793-4299-b72c-2d5fc84e9963\">\n",
              "    <div class=\"colab-df-container\">\n",
              "      <div>\n",
              "<style scoped>\n",
              "    .dataframe tbody tr th:only-of-type {\n",
              "        vertical-align: middle;\n",
              "    }\n",
              "\n",
              "    .dataframe tbody tr th {\n",
              "        vertical-align: top;\n",
              "    }\n",
              "\n",
              "    .dataframe thead th {\n",
              "        text-align: right;\n",
              "    }\n",
              "</style>\n",
              "<table border=\"1\" class=\"dataframe\">\n",
              "  <thead>\n",
              "    <tr style=\"text-align: right;\">\n",
              "      <th></th>\n",
              "      <th>ID</th>\n",
              "      <th>CODE_GENDER</th>\n",
              "      <th>FLAG_OWN_CAR</th>\n",
              "      <th>FLAG_OWN_REALTY</th>\n",
              "      <th>CNT_CHILDREN</th>\n",
              "      <th>AMT_INCOME_TOTAL</th>\n",
              "      <th>NAME_INCOME_TYPE</th>\n",
              "      <th>NAME_EDUCATION_TYPE</th>\n",
              "      <th>NAME_FAMILY_STATUS</th>\n",
              "      <th>NAME_HOUSING_TYPE</th>\n",
              "      <th>DAYS_BIRTH</th>\n",
              "      <th>DAYS_EMPLOYED</th>\n",
              "      <th>FLAG_MOBIL</th>\n",
              "      <th>FLAG_WORK_PHONE</th>\n",
              "      <th>FLAG_PHONE</th>\n",
              "      <th>FLAG_EMAIL</th>\n",
              "      <th>OCCUPATION_TYPE</th>\n",
              "      <th>CNT_FAM_MEMBERS</th>\n",
              "    </tr>\n",
              "  </thead>\n",
              "  <tbody>\n",
              "    <tr>\n",
              "      <th>0</th>\n",
              "      <td>5008804</td>\n",
              "      <td>M</td>\n",
              "      <td>Y</td>\n",
              "      <td>Y</td>\n",
              "      <td>0</td>\n",
              "      <td>427,500.00</td>\n",
              "      <td>Working</td>\n",
              "      <td>Higher education</td>\n",
              "      <td>Civil marriage</td>\n",
              "      <td>Rented apartment</td>\n",
              "      <td>-12005</td>\n",
              "      <td>-4542</td>\n",
              "      <td>1</td>\n",
              "      <td>1</td>\n",
              "      <td>0</td>\n",
              "      <td>0</td>\n",
              "      <td>NaN</td>\n",
              "      <td>2.00</td>\n",
              "    </tr>\n",
              "    <tr>\n",
              "      <th>1</th>\n",
              "      <td>5008805</td>\n",
              "      <td>M</td>\n",
              "      <td>Y</td>\n",
              "      <td>Y</td>\n",
              "      <td>0</td>\n",
              "      <td>427,500.00</td>\n",
              "      <td>Working</td>\n",
              "      <td>Higher education</td>\n",
              "      <td>Civil marriage</td>\n",
              "      <td>Rented apartment</td>\n",
              "      <td>-12005</td>\n",
              "      <td>-4542</td>\n",
              "      <td>1</td>\n",
              "      <td>1</td>\n",
              "      <td>0</td>\n",
              "      <td>0</td>\n",
              "      <td>NaN</td>\n",
              "      <td>2.00</td>\n",
              "    </tr>\n",
              "    <tr>\n",
              "      <th>2</th>\n",
              "      <td>5008806</td>\n",
              "      <td>M</td>\n",
              "      <td>Y</td>\n",
              "      <td>Y</td>\n",
              "      <td>0</td>\n",
              "      <td>112,500.00</td>\n",
              "      <td>Working</td>\n",
              "      <td>Secondary / secondary special</td>\n",
              "      <td>Married</td>\n",
              "      <td>House / apartment</td>\n",
              "      <td>-21474</td>\n",
              "      <td>-1134</td>\n",
              "      <td>1</td>\n",
              "      <td>0</td>\n",
              "      <td>0</td>\n",
              "      <td>0</td>\n",
              "      <td>Security staff</td>\n",
              "      <td>2.00</td>\n",
              "    </tr>\n",
              "    <tr>\n",
              "      <th>3</th>\n",
              "      <td>5008808</td>\n",
              "      <td>F</td>\n",
              "      <td>N</td>\n",
              "      <td>Y</td>\n",
              "      <td>0</td>\n",
              "      <td>270,000.00</td>\n",
              "      <td>Commercial associate</td>\n",
              "      <td>Secondary / secondary special</td>\n",
              "      <td>Single / not married</td>\n",
              "      <td>House / apartment</td>\n",
              "      <td>-19110</td>\n",
              "      <td>-3051</td>\n",
              "      <td>1</td>\n",
              "      <td>0</td>\n",
              "      <td>1</td>\n",
              "      <td>1</td>\n",
              "      <td>Sales staff</td>\n",
              "      <td>1.00</td>\n",
              "    </tr>\n",
              "    <tr>\n",
              "      <th>4</th>\n",
              "      <td>5008809</td>\n",
              "      <td>F</td>\n",
              "      <td>N</td>\n",
              "      <td>Y</td>\n",
              "      <td>0</td>\n",
              "      <td>270,000.00</td>\n",
              "      <td>Commercial associate</td>\n",
              "      <td>Secondary / secondary special</td>\n",
              "      <td>Single / not married</td>\n",
              "      <td>House / apartment</td>\n",
              "      <td>-19110</td>\n",
              "      <td>-3051</td>\n",
              "      <td>1</td>\n",
              "      <td>0</td>\n",
              "      <td>1</td>\n",
              "      <td>1</td>\n",
              "      <td>Sales staff</td>\n",
              "      <td>1.00</td>\n",
              "    </tr>\n",
              "    <tr>\n",
              "      <th>...</th>\n",
              "      <td>...</td>\n",
              "      <td>...</td>\n",
              "      <td>...</td>\n",
              "      <td>...</td>\n",
              "      <td>...</td>\n",
              "      <td>...</td>\n",
              "      <td>...</td>\n",
              "      <td>...</td>\n",
              "      <td>...</td>\n",
              "      <td>...</td>\n",
              "      <td>...</td>\n",
              "      <td>...</td>\n",
              "      <td>...</td>\n",
              "      <td>...</td>\n",
              "      <td>...</td>\n",
              "      <td>...</td>\n",
              "      <td>...</td>\n",
              "      <td>...</td>\n",
              "    </tr>\n",
              "    <tr>\n",
              "      <th>438552</th>\n",
              "      <td>6840104</td>\n",
              "      <td>M</td>\n",
              "      <td>N</td>\n",
              "      <td>Y</td>\n",
              "      <td>0</td>\n",
              "      <td>135,000.00</td>\n",
              "      <td>Pensioner</td>\n",
              "      <td>Secondary / secondary special</td>\n",
              "      <td>Separated</td>\n",
              "      <td>House / apartment</td>\n",
              "      <td>-22717</td>\n",
              "      <td>365243</td>\n",
              "      <td>1</td>\n",
              "      <td>0</td>\n",
              "      <td>0</td>\n",
              "      <td>0</td>\n",
              "      <td>NaN</td>\n",
              "      <td>1.00</td>\n",
              "    </tr>\n",
              "    <tr>\n",
              "      <th>438553</th>\n",
              "      <td>6840222</td>\n",
              "      <td>F</td>\n",
              "      <td>N</td>\n",
              "      <td>N</td>\n",
              "      <td>0</td>\n",
              "      <td>103,500.00</td>\n",
              "      <td>Working</td>\n",
              "      <td>Secondary / secondary special</td>\n",
              "      <td>Single / not married</td>\n",
              "      <td>House / apartment</td>\n",
              "      <td>-15939</td>\n",
              "      <td>-3007</td>\n",
              "      <td>1</td>\n",
              "      <td>0</td>\n",
              "      <td>0</td>\n",
              "      <td>0</td>\n",
              "      <td>Laborers</td>\n",
              "      <td>1.00</td>\n",
              "    </tr>\n",
              "    <tr>\n",
              "      <th>438554</th>\n",
              "      <td>6841878</td>\n",
              "      <td>F</td>\n",
              "      <td>N</td>\n",
              "      <td>N</td>\n",
              "      <td>0</td>\n",
              "      <td>54,000.00</td>\n",
              "      <td>Commercial associate</td>\n",
              "      <td>Higher education</td>\n",
              "      <td>Single / not married</td>\n",
              "      <td>With parents</td>\n",
              "      <td>-8169</td>\n",
              "      <td>-372</td>\n",
              "      <td>1</td>\n",
              "      <td>1</td>\n",
              "      <td>0</td>\n",
              "      <td>0</td>\n",
              "      <td>Sales staff</td>\n",
              "      <td>1.00</td>\n",
              "    </tr>\n",
              "    <tr>\n",
              "      <th>438555</th>\n",
              "      <td>6842765</td>\n",
              "      <td>F</td>\n",
              "      <td>N</td>\n",
              "      <td>Y</td>\n",
              "      <td>0</td>\n",
              "      <td>72,000.00</td>\n",
              "      <td>Pensioner</td>\n",
              "      <td>Secondary / secondary special</td>\n",
              "      <td>Married</td>\n",
              "      <td>House / apartment</td>\n",
              "      <td>-21673</td>\n",
              "      <td>365243</td>\n",
              "      <td>1</td>\n",
              "      <td>0</td>\n",
              "      <td>0</td>\n",
              "      <td>0</td>\n",
              "      <td>NaN</td>\n",
              "      <td>2.00</td>\n",
              "    </tr>\n",
              "    <tr>\n",
              "      <th>438556</th>\n",
              "      <td>6842885</td>\n",
              "      <td>F</td>\n",
              "      <td>N</td>\n",
              "      <td>Y</td>\n",
              "      <td>0</td>\n",
              "      <td>121,500.00</td>\n",
              "      <td>Working</td>\n",
              "      <td>Secondary / secondary special</td>\n",
              "      <td>Married</td>\n",
              "      <td>House / apartment</td>\n",
              "      <td>-18858</td>\n",
              "      <td>-1201</td>\n",
              "      <td>1</td>\n",
              "      <td>0</td>\n",
              "      <td>1</td>\n",
              "      <td>0</td>\n",
              "      <td>Sales staff</td>\n",
              "      <td>2.00</td>\n",
              "    </tr>\n",
              "  </tbody>\n",
              "</table>\n",
              "<p>438557 rows × 18 columns</p>\n",
              "</div>\n",
              "      <button class=\"colab-df-convert\" onclick=\"convertToInteractive('df-34b191bc-4793-4299-b72c-2d5fc84e9963')\"\n",
              "              title=\"Convert this dataframe to an interactive table.\"\n",
              "              style=\"display:none;\">\n",
              "        \n",
              "  <svg xmlns=\"http://www.w3.org/2000/svg\" height=\"24px\"viewBox=\"0 0 24 24\"\n",
              "       width=\"24px\">\n",
              "    <path d=\"M0 0h24v24H0V0z\" fill=\"none\"/>\n",
              "    <path d=\"M18.56 5.44l.94 2.06.94-2.06 2.06-.94-2.06-.94-.94-2.06-.94 2.06-2.06.94zm-11 1L8.5 8.5l.94-2.06 2.06-.94-2.06-.94L8.5 2.5l-.94 2.06-2.06.94zm10 10l.94 2.06.94-2.06 2.06-.94-2.06-.94-.94-2.06-.94 2.06-2.06.94z\"/><path d=\"M17.41 7.96l-1.37-1.37c-.4-.4-.92-.59-1.43-.59-.52 0-1.04.2-1.43.59L10.3 9.45l-7.72 7.72c-.78.78-.78 2.05 0 2.83L4 21.41c.39.39.9.59 1.41.59.51 0 1.02-.2 1.41-.59l7.78-7.78 2.81-2.81c.8-.78.8-2.07 0-2.86zM5.41 20L4 18.59l7.72-7.72 1.47 1.35L5.41 20z\"/>\n",
              "  </svg>\n",
              "      </button>\n",
              "      \n",
              "  <style>\n",
              "    .colab-df-container {\n",
              "      display:flex;\n",
              "      flex-wrap:wrap;\n",
              "      gap: 12px;\n",
              "    }\n",
              "\n",
              "    .colab-df-convert {\n",
              "      background-color: #E8F0FE;\n",
              "      border: none;\n",
              "      border-radius: 50%;\n",
              "      cursor: pointer;\n",
              "      display: none;\n",
              "      fill: #1967D2;\n",
              "      height: 32px;\n",
              "      padding: 0 0 0 0;\n",
              "      width: 32px;\n",
              "    }\n",
              "\n",
              "    .colab-df-convert:hover {\n",
              "      background-color: #E2EBFA;\n",
              "      box-shadow: 0px 1px 2px rgba(60, 64, 67, 0.3), 0px 1px 3px 1px rgba(60, 64, 67, 0.15);\n",
              "      fill: #174EA6;\n",
              "    }\n",
              "\n",
              "    [theme=dark] .colab-df-convert {\n",
              "      background-color: #3B4455;\n",
              "      fill: #D2E3FC;\n",
              "    }\n",
              "\n",
              "    [theme=dark] .colab-df-convert:hover {\n",
              "      background-color: #434B5C;\n",
              "      box-shadow: 0px 1px 3px 1px rgba(0, 0, 0, 0.15);\n",
              "      filter: drop-shadow(0px 1px 2px rgba(0, 0, 0, 0.3));\n",
              "      fill: #FFFFFF;\n",
              "    }\n",
              "  </style>\n",
              "\n",
              "      <script>\n",
              "        const buttonEl =\n",
              "          document.querySelector('#df-34b191bc-4793-4299-b72c-2d5fc84e9963 button.colab-df-convert');\n",
              "        buttonEl.style.display =\n",
              "          google.colab.kernel.accessAllowed ? 'block' : 'none';\n",
              "\n",
              "        async function convertToInteractive(key) {\n",
              "          const element = document.querySelector('#df-34b191bc-4793-4299-b72c-2d5fc84e9963');\n",
              "          const dataTable =\n",
              "            await google.colab.kernel.invokeFunction('convertToInteractive',\n",
              "                                                     [key], {});\n",
              "          if (!dataTable) return;\n",
              "\n",
              "          const docLinkHtml = 'Like what you see? Visit the ' +\n",
              "            '<a target=\"_blank\" href=https://colab.research.google.com/notebooks/data_table.ipynb>data table notebook</a>'\n",
              "            + ' to learn more about interactive tables.';\n",
              "          element.innerHTML = '';\n",
              "          dataTable['output_type'] = 'display_data';\n",
              "          await google.colab.output.renderOutput(dataTable, element);\n",
              "          const docLink = document.createElement('div');\n",
              "          docLink.innerHTML = docLinkHtml;\n",
              "          element.appendChild(docLink);\n",
              "        }\n",
              "      </script>\n",
              "    </div>\n",
              "  </div>\n",
              "  "
            ]
          },
          "metadata": {},
          "execution_count": 330
        }
      ]
    },
    {
      "cell_type": "code",
      "source": [
        "credit"
      ],
      "metadata": {
        "colab": {
          "base_uri": "https://localhost:8080/",
          "height": 424
        },
        "id": "vyPKnck2V3OO",
        "outputId": "92f67f0f-da56-4fe4-d2a8-04d68832c7db"
      },
      "execution_count": null,
      "outputs": [
        {
          "output_type": "execute_result",
          "data": {
            "text/plain": [
              "              ID  MONTHS_BALANCE STATUS\n",
              "0        5001711               0      X\n",
              "1        5001711              -1      0\n",
              "2        5001711              -2      0\n",
              "3        5001711              -3      0\n",
              "4        5001712               0      C\n",
              "...          ...             ...    ...\n",
              "1048570  5150487             -25      C\n",
              "1048571  5150487             -26      C\n",
              "1048572  5150487             -27      C\n",
              "1048573  5150487             -28      C\n",
              "1048574  5150487             -29      C\n",
              "\n",
              "[1048575 rows x 3 columns]"
            ],
            "text/html": [
              "\n",
              "  <div id=\"df-22d3ca97-1e6f-4cfe-b337-d35914cb46f7\">\n",
              "    <div class=\"colab-df-container\">\n",
              "      <div>\n",
              "<style scoped>\n",
              "    .dataframe tbody tr th:only-of-type {\n",
              "        vertical-align: middle;\n",
              "    }\n",
              "\n",
              "    .dataframe tbody tr th {\n",
              "        vertical-align: top;\n",
              "    }\n",
              "\n",
              "    .dataframe thead th {\n",
              "        text-align: right;\n",
              "    }\n",
              "</style>\n",
              "<table border=\"1\" class=\"dataframe\">\n",
              "  <thead>\n",
              "    <tr style=\"text-align: right;\">\n",
              "      <th></th>\n",
              "      <th>ID</th>\n",
              "      <th>MONTHS_BALANCE</th>\n",
              "      <th>STATUS</th>\n",
              "    </tr>\n",
              "  </thead>\n",
              "  <tbody>\n",
              "    <tr>\n",
              "      <th>0</th>\n",
              "      <td>5001711</td>\n",
              "      <td>0</td>\n",
              "      <td>X</td>\n",
              "    </tr>\n",
              "    <tr>\n",
              "      <th>1</th>\n",
              "      <td>5001711</td>\n",
              "      <td>-1</td>\n",
              "      <td>0</td>\n",
              "    </tr>\n",
              "    <tr>\n",
              "      <th>2</th>\n",
              "      <td>5001711</td>\n",
              "      <td>-2</td>\n",
              "      <td>0</td>\n",
              "    </tr>\n",
              "    <tr>\n",
              "      <th>3</th>\n",
              "      <td>5001711</td>\n",
              "      <td>-3</td>\n",
              "      <td>0</td>\n",
              "    </tr>\n",
              "    <tr>\n",
              "      <th>4</th>\n",
              "      <td>5001712</td>\n",
              "      <td>0</td>\n",
              "      <td>C</td>\n",
              "    </tr>\n",
              "    <tr>\n",
              "      <th>...</th>\n",
              "      <td>...</td>\n",
              "      <td>...</td>\n",
              "      <td>...</td>\n",
              "    </tr>\n",
              "    <tr>\n",
              "      <th>1048570</th>\n",
              "      <td>5150487</td>\n",
              "      <td>-25</td>\n",
              "      <td>C</td>\n",
              "    </tr>\n",
              "    <tr>\n",
              "      <th>1048571</th>\n",
              "      <td>5150487</td>\n",
              "      <td>-26</td>\n",
              "      <td>C</td>\n",
              "    </tr>\n",
              "    <tr>\n",
              "      <th>1048572</th>\n",
              "      <td>5150487</td>\n",
              "      <td>-27</td>\n",
              "      <td>C</td>\n",
              "    </tr>\n",
              "    <tr>\n",
              "      <th>1048573</th>\n",
              "      <td>5150487</td>\n",
              "      <td>-28</td>\n",
              "      <td>C</td>\n",
              "    </tr>\n",
              "    <tr>\n",
              "      <th>1048574</th>\n",
              "      <td>5150487</td>\n",
              "      <td>-29</td>\n",
              "      <td>C</td>\n",
              "    </tr>\n",
              "  </tbody>\n",
              "</table>\n",
              "<p>1048575 rows × 3 columns</p>\n",
              "</div>\n",
              "      <button class=\"colab-df-convert\" onclick=\"convertToInteractive('df-22d3ca97-1e6f-4cfe-b337-d35914cb46f7')\"\n",
              "              title=\"Convert this dataframe to an interactive table.\"\n",
              "              style=\"display:none;\">\n",
              "        \n",
              "  <svg xmlns=\"http://www.w3.org/2000/svg\" height=\"24px\"viewBox=\"0 0 24 24\"\n",
              "       width=\"24px\">\n",
              "    <path d=\"M0 0h24v24H0V0z\" fill=\"none\"/>\n",
              "    <path d=\"M18.56 5.44l.94 2.06.94-2.06 2.06-.94-2.06-.94-.94-2.06-.94 2.06-2.06.94zm-11 1L8.5 8.5l.94-2.06 2.06-.94-2.06-.94L8.5 2.5l-.94 2.06-2.06.94zm10 10l.94 2.06.94-2.06 2.06-.94-2.06-.94-.94-2.06-.94 2.06-2.06.94z\"/><path d=\"M17.41 7.96l-1.37-1.37c-.4-.4-.92-.59-1.43-.59-.52 0-1.04.2-1.43.59L10.3 9.45l-7.72 7.72c-.78.78-.78 2.05 0 2.83L4 21.41c.39.39.9.59 1.41.59.51 0 1.02-.2 1.41-.59l7.78-7.78 2.81-2.81c.8-.78.8-2.07 0-2.86zM5.41 20L4 18.59l7.72-7.72 1.47 1.35L5.41 20z\"/>\n",
              "  </svg>\n",
              "      </button>\n",
              "      \n",
              "  <style>\n",
              "    .colab-df-container {\n",
              "      display:flex;\n",
              "      flex-wrap:wrap;\n",
              "      gap: 12px;\n",
              "    }\n",
              "\n",
              "    .colab-df-convert {\n",
              "      background-color: #E8F0FE;\n",
              "      border: none;\n",
              "      border-radius: 50%;\n",
              "      cursor: pointer;\n",
              "      display: none;\n",
              "      fill: #1967D2;\n",
              "      height: 32px;\n",
              "      padding: 0 0 0 0;\n",
              "      width: 32px;\n",
              "    }\n",
              "\n",
              "    .colab-df-convert:hover {\n",
              "      background-color: #E2EBFA;\n",
              "      box-shadow: 0px 1px 2px rgba(60, 64, 67, 0.3), 0px 1px 3px 1px rgba(60, 64, 67, 0.15);\n",
              "      fill: #174EA6;\n",
              "    }\n",
              "\n",
              "    [theme=dark] .colab-df-convert {\n",
              "      background-color: #3B4455;\n",
              "      fill: #D2E3FC;\n",
              "    }\n",
              "\n",
              "    [theme=dark] .colab-df-convert:hover {\n",
              "      background-color: #434B5C;\n",
              "      box-shadow: 0px 1px 3px 1px rgba(0, 0, 0, 0.15);\n",
              "      filter: drop-shadow(0px 1px 2px rgba(0, 0, 0, 0.3));\n",
              "      fill: #FFFFFF;\n",
              "    }\n",
              "  </style>\n",
              "\n",
              "      <script>\n",
              "        const buttonEl =\n",
              "          document.querySelector('#df-22d3ca97-1e6f-4cfe-b337-d35914cb46f7 button.colab-df-convert');\n",
              "        buttonEl.style.display =\n",
              "          google.colab.kernel.accessAllowed ? 'block' : 'none';\n",
              "\n",
              "        async function convertToInteractive(key) {\n",
              "          const element = document.querySelector('#df-22d3ca97-1e6f-4cfe-b337-d35914cb46f7');\n",
              "          const dataTable =\n",
              "            await google.colab.kernel.invokeFunction('convertToInteractive',\n",
              "                                                     [key], {});\n",
              "          if (!dataTable) return;\n",
              "\n",
              "          const docLinkHtml = 'Like what you see? Visit the ' +\n",
              "            '<a target=\"_blank\" href=https://colab.research.google.com/notebooks/data_table.ipynb>data table notebook</a>'\n",
              "            + ' to learn more about interactive tables.';\n",
              "          element.innerHTML = '';\n",
              "          dataTable['output_type'] = 'display_data';\n",
              "          await google.colab.output.renderOutput(dataTable, element);\n",
              "          const docLink = document.createElement('div');\n",
              "          docLink.innerHTML = docLinkHtml;\n",
              "          element.appendChild(docLink);\n",
              "        }\n",
              "      </script>\n",
              "    </div>\n",
              "  </div>\n",
              "  "
            ]
          },
          "metadata": {},
          "execution_count": 331
        }
      ]
    },
    {
      "cell_type": "code",
      "source": [
        "app.info()"
      ],
      "metadata": {
        "colab": {
          "base_uri": "https://localhost:8080/"
        },
        "id": "JQA5_tPomAQr",
        "outputId": "06cb2f0a-83e3-461f-e841-6073969e4199"
      },
      "execution_count": null,
      "outputs": [
        {
          "output_type": "stream",
          "name": "stdout",
          "text": [
            "<class 'pandas.core.frame.DataFrame'>\n",
            "RangeIndex: 438557 entries, 0 to 438556\n",
            "Data columns (total 18 columns):\n",
            " #   Column               Non-Null Count   Dtype  \n",
            "---  ------               --------------   -----  \n",
            " 0   ID                   438557 non-null  int64  \n",
            " 1   CODE_GENDER          438557 non-null  object \n",
            " 2   FLAG_OWN_CAR         438557 non-null  object \n",
            " 3   FLAG_OWN_REALTY      438557 non-null  object \n",
            " 4   CNT_CHILDREN         438557 non-null  int64  \n",
            " 5   AMT_INCOME_TOTAL     438557 non-null  float64\n",
            " 6   NAME_INCOME_TYPE     438557 non-null  object \n",
            " 7   NAME_EDUCATION_TYPE  438557 non-null  object \n",
            " 8   NAME_FAMILY_STATUS   438557 non-null  object \n",
            " 9   NAME_HOUSING_TYPE    438557 non-null  object \n",
            " 10  DAYS_BIRTH           438557 non-null  int64  \n",
            " 11  DAYS_EMPLOYED        438557 non-null  int64  \n",
            " 12  FLAG_MOBIL           438557 non-null  int64  \n",
            " 13  FLAG_WORK_PHONE      438557 non-null  int64  \n",
            " 14  FLAG_PHONE           438557 non-null  int64  \n",
            " 15  FLAG_EMAIL           438557 non-null  int64  \n",
            " 16  OCCUPATION_TYPE      304354 non-null  object \n",
            " 17  CNT_FAM_MEMBERS      438557 non-null  float64\n",
            "dtypes: float64(2), int64(8), object(8)\n",
            "memory usage: 60.2+ MB\n"
          ]
        }
      ]
    },
    {
      "cell_type": "markdown",
      "source": [
        "Application record file has nine categorical variables and nine numerical variables."
      ],
      "metadata": {
        "id": "ADlpiLz-JB81"
      }
    },
    {
      "cell_type": "code",
      "source": [
        "credit.info()"
      ],
      "metadata": {
        "colab": {
          "base_uri": "https://localhost:8080/"
        },
        "id": "vVlhRVXamZPO",
        "outputId": "07a59d40-cf0d-437c-970b-9a5a7f495d1d"
      },
      "execution_count": null,
      "outputs": [
        {
          "output_type": "stream",
          "name": "stdout",
          "text": [
            "<class 'pandas.core.frame.DataFrame'>\n",
            "RangeIndex: 1048575 entries, 0 to 1048574\n",
            "Data columns (total 3 columns):\n",
            " #   Column          Non-Null Count    Dtype \n",
            "---  ------          --------------    ----- \n",
            " 0   ID              1048575 non-null  int64 \n",
            " 1   MONTHS_BALANCE  1048575 non-null  int64 \n",
            " 2   STATUS          1048575 non-null  object\n",
            "dtypes: int64(2), object(1)\n",
            "memory usage: 24.0+ MB\n"
          ]
        }
      ]
    },
    {
      "cell_type": "markdown",
      "source": [
        "Credit card records has one categorical column and two numerical columns."
      ],
      "metadata": {
        "id": "k2p_JW-kJQNL"
      }
    },
    {
      "cell_type": "code",
      "source": [
        "app['ID'].nunique() # how many unique IDs in application records?"
      ],
      "metadata": {
        "colab": {
          "base_uri": "https://localhost:8080/"
        },
        "id": "k0zra239miE2",
        "outputId": "f3b5e69c-bc28-4cd6-cb92-a3bc3c27c9f4"
      },
      "execution_count": null,
      "outputs": [
        {
          "output_type": "execute_result",
          "data": {
            "text/plain": [
              "438510"
            ]
          },
          "metadata": {},
          "execution_count": 334
        }
      ]
    },
    {
      "cell_type": "markdown",
      "source": [
        "Since the total rows are 438,557 and the unique rows are 438510, this means it has duplicates."
      ],
      "metadata": {
        "id": "XncCly8Vmurb"
      }
    },
    {
      "cell_type": "code",
      "source": [
        "credit['ID'].nunique() # how many unique IDs in credit records?"
      ],
      "metadata": {
        "colab": {
          "base_uri": "https://localhost:8080/"
        },
        "id": "iW-2Zz0DpwQB",
        "outputId": "250a01e3-33a3-408f-c559-eb5aefa01ea5"
      },
      "execution_count": null,
      "outputs": [
        {
          "output_type": "execute_result",
          "data": {
            "text/plain": [
              "45985"
            ]
          },
          "metadata": {},
          "execution_count": 335
        }
      ]
    },
    {
      "cell_type": "markdown",
      "source": [
        "This has around 45,000 unique rows as there are repeating entries for different monthly values and status."
      ],
      "metadata": {
        "id": "8VqRn5c2qdJX"
      }
    },
    {
      "cell_type": "markdown",
      "source": [
        "> **Note:** There is a big difference between the two unique numbers of the two tables. It's obvious that there are less customers than applications."
      ],
      "metadata": {
        "id": "4_3QnuJ6ltUg"
      }
    },
    {
      "cell_type": "code",
      "source": [
        "print(\"Number of shared IDs for the two tables: {}\".format(len(set(credit['ID']).intersection(set(app['ID']))))) # checking for how many records match in two datasets"
      ],
      "metadata": {
        "colab": {
          "base_uri": "https://localhost:8080/"
        },
        "id": "AhsByFDtozNQ",
        "outputId": "58550b4d-ef95-499d-ed1f-167b46fb00ed"
      },
      "execution_count": null,
      "outputs": [
        {
          "output_type": "stream",
          "name": "stdout",
          "text": [
            "Number of shared IDs for the two tables: 36457\n"
          ]
        }
      ]
    },
    {
      "cell_type": "code",
      "source": [
        "# Cardinality of features\n",
        "app.nunique()"
      ],
      "metadata": {
        "colab": {
          "base_uri": "https://localhost:8080/"
        },
        "id": "qG3guZXEFhcs",
        "outputId": "009dd569-e365-41d2-e548-9c4158fa5457"
      },
      "execution_count": null,
      "outputs": [
        {
          "output_type": "execute_result",
          "data": {
            "text/plain": [
              "ID                     438510\n",
              "CODE_GENDER                 2\n",
              "FLAG_OWN_CAR                2\n",
              "FLAG_OWN_REALTY             2\n",
              "CNT_CHILDREN               12\n",
              "AMT_INCOME_TOTAL          866\n",
              "NAME_INCOME_TYPE            5\n",
              "NAME_EDUCATION_TYPE         5\n",
              "NAME_FAMILY_STATUS          5\n",
              "NAME_HOUSING_TYPE           6\n",
              "DAYS_BIRTH              16379\n",
              "DAYS_EMPLOYED            9406\n",
              "FLAG_MOBIL                  1\n",
              "FLAG_WORK_PHONE             2\n",
              "FLAG_PHONE                  2\n",
              "FLAG_EMAIL                  2\n",
              "OCCUPATION_TYPE            18\n",
              "CNT_FAM_MEMBERS            13\n",
              "dtype: int64"
            ]
          },
          "metadata": {},
          "execution_count": 337
        }
      ]
    },
    {
      "cell_type": "markdown",
      "source": [
        "There is 1 constant feature, 6 binary features, 5 continuous features and 5 non-binary categorical features."
      ],
      "metadata": {
        "id": "7wFqLX2LF0BR"
      }
    },
    {
      "cell_type": "markdown",
      "source": [
        "### Handling Missing Data"
      ],
      "metadata": {
        "id": "vyq1KKTNlawu"
      }
    },
    {
      "cell_type": "code",
      "source": [
        "# Checking null values in application record\n",
        "app.isnull().sum()"
      ],
      "metadata": {
        "colab": {
          "base_uri": "https://localhost:8080/"
        },
        "id": "ygTJ2kSJZpxL",
        "outputId": "dbe79748-65a0-4f12-89dc-1e0fe5cebbf3"
      },
      "execution_count": null,
      "outputs": [
        {
          "output_type": "execute_result",
          "data": {
            "text/plain": [
              "ID                          0\n",
              "CODE_GENDER                 0\n",
              "FLAG_OWN_CAR                0\n",
              "FLAG_OWN_REALTY             0\n",
              "CNT_CHILDREN                0\n",
              "AMT_INCOME_TOTAL            0\n",
              "NAME_INCOME_TYPE            0\n",
              "NAME_EDUCATION_TYPE         0\n",
              "NAME_FAMILY_STATUS          0\n",
              "NAME_HOUSING_TYPE           0\n",
              "DAYS_BIRTH                  0\n",
              "DAYS_EMPLOYED               0\n",
              "FLAG_MOBIL                  0\n",
              "FLAG_WORK_PHONE             0\n",
              "FLAG_PHONE                  0\n",
              "FLAG_EMAIL                  0\n",
              "OCCUPATION_TYPE        134203\n",
              "CNT_FAM_MEMBERS             0\n",
              "dtype: int64"
            ]
          },
          "metadata": {},
          "execution_count": 338
        }
      ]
    },
    {
      "cell_type": "code",
      "source": [
        "# Checking null values in credit record\n",
        "credit.isnull().sum()"
      ],
      "metadata": {
        "colab": {
          "base_uri": "https://localhost:8080/"
        },
        "id": "YJ5_5RQtZr6A",
        "outputId": "3115c837-a394-467f-9552-14d071978935"
      },
      "execution_count": null,
      "outputs": [
        {
          "output_type": "execute_result",
          "data": {
            "text/plain": [
              "ID                0\n",
              "MONTHS_BALANCE    0\n",
              "STATUS            0\n",
              "dtype: int64"
            ]
          },
          "metadata": {},
          "execution_count": 339
        }
      ]
    },
    {
      "cell_type": "markdown",
      "source": [
        "“Occupation Type” is the only variable that has null values (NaN), so I'm gonna fill those values with “Others”."
      ],
      "metadata": {
        "id": "86SimGXblPiz"
      }
    },
    {
      "cell_type": "code",
      "source": [
        "# filling in missing data\n",
        "app.OCCUPATION_TYPE = app.OCCUPATION_TYPE.fillna(\"Others\")"
      ],
      "metadata": {
        "id": "2S5nvQCKiZzF"
      },
      "execution_count": null,
      "outputs": []
    },
    {
      "cell_type": "markdown",
      "source": [
        "### Remove Duplicates and Unnecessary Data"
      ],
      "metadata": {
        "id": "aOEt8Yx-UKbA"
      }
    },
    {
      "cell_type": "code",
      "source": [
        "# Drop duplicates in application record\n",
        "app = app.drop_duplicates(subset=app.columns[1:], keep='first')"
      ],
      "metadata": {
        "id": "4zDM_nR1UZYi"
      },
      "execution_count": null,
      "outputs": []
    },
    {
      "cell_type": "markdown",
      "source": [
        "we deleted the duplicates in application record and will keep the last entry of the ID if its repeated."
      ],
      "metadata": {
        "id": "gbRStr5BXk5P"
      }
    },
    {
      "cell_type": "code",
      "source": [
        "# Drop constant feature\n",
        "app.drop('FLAG_MOBIL', axis=1, inplace=True)"
      ],
      "metadata": {
        "id": "Z4tior0KVhQC"
      },
      "execution_count": null,
      "outputs": []
    },
    {
      "cell_type": "code",
      "source": [
        "app.shape"
      ],
      "metadata": {
        "colab": {
          "base_uri": "https://localhost:8080/"
        },
        "id": "H7Vf8tmKYzNP",
        "outputId": "19f6d17f-2685-401a-8cbf-7f67bc155bb4"
      },
      "execution_count": null,
      "outputs": [
        {
          "output_type": "execute_result",
          "data": {
            "text/plain": [
              "(90085, 17)"
            ]
          },
          "metadata": {},
          "execution_count": 343
        }
      ]
    },
    {
      "cell_type": "markdown",
      "source": [
        "### Renaming Features\n"
      ],
      "metadata": {
        "id": "IrFg_q0eaY2V"
      }
    },
    {
      "cell_type": "code",
      "source": [
        "app.rename(columns={'CODE_GENDER':'gender', 'FLAG_OWN_CAR':'own_car', 'FLAG_OWN_REALTY':'own_realty',\n",
        "                    'CNT_CHILDREN':'children_num','AMT_INCOME_TOTAL':'income',\n",
        "                    'NAME_INCOME_TYPE':'income_type', 'NAME_EDUCATION_TYPE':'education_type',\n",
        "                    'NAME_FAMILY_STATUS':'family_status', 'NAME_HOUSING_TYPE':'housing_type', \n",
        "                    'DAYS_BIRTH':'birth_days', 'DAYS_EMPLOYED':'emplyment_days',\n",
        "                    'FLAG_WORK_PHONE':'own_work_phone', 'FLAG_PHONE':'own_phone',\n",
        "                    'FLAG_EMAIL':'own_email', 'OCCUPATION_TYPE':'occupation',\n",
        "                    'CNT_FAM_MEMBERS':'family_size'\n",
        "                    },inplace=True)"
      ],
      "metadata": {
        "id": "uZyfw0uWadf3"
      },
      "execution_count": null,
      "outputs": []
    },
    {
      "cell_type": "code",
      "source": [
        "# checking new columns names\n",
        "app.columns"
      ],
      "metadata": {
        "colab": {
          "base_uri": "https://localhost:8080/"
        },
        "id": "AGoHCcRNJo5g",
        "outputId": "14753064-f506-4859-e73c-0dd952fca004"
      },
      "execution_count": null,
      "outputs": [
        {
          "output_type": "execute_result",
          "data": {
            "text/plain": [
              "Index(['ID', 'gender', 'own_car', 'own_realty', 'children_num', 'income',\n",
              "       'income_type', 'education_type', 'family_status', 'housing_type',\n",
              "       'birth_days', 'emplyment_days', 'own_work_phone', 'own_phone', 'own_email',\n",
              "       'occupation', 'family_size'],\n",
              "      dtype='object')"
            ]
          },
          "metadata": {},
          "execution_count": 345
        }
      ]
    },
    {
      "cell_type": "markdown",
      "source": [
        "### Data visualization"
      ],
      "metadata": {
        "id": "0j5j1EfFgdNG"
      }
    },
    {
      "cell_type": "markdown",
      "source": [
        "##### Check Frequencies for some Categorical Variables"
      ],
      "metadata": {
        "id": "unsutPk-0NN9"
      }
    },
    {
      "cell_type": "code",
      "source": [
        "# Helper function to plot pie chart for the categorical data\n",
        "def pie_plot(cat_columns, data, titles, colors):\n",
        "    fig, ax = plt.subplots(1, len(cat_columns))\n",
        "    fig.set_size_inches(14, 5)\n",
        "    for i in range(len(cat_columns)):\n",
        "        g = data[cat_columns[i]].value_counts().plot.pie(explode=[0.1, 0.1],\n",
        "                                                          colors = colors[i],\n",
        "                                                          autopct='%1.1f%%',\n",
        "                                                          textprops = {'fontsize':16, 'color':'white', 'fontweight':'bold'},\n",
        "                                                          ax=ax[i])\n",
        "        g.set_title(titles[i], fontsize=13, color= '#343a67', fontweight='bold', loc='left')\n",
        "        g.legend()\n",
        "    plt.tight_layout()\n",
        "    fig.show()\n",
        "\n",
        "# title of the plots\n",
        "titles = [\"No. of Customers by Gender\",\n",
        "          \"No. of Customers by Car Ownership\", \n",
        "          \"No. of Customers by Realty Ownership\"]\n",
        "# Categorical features choosen\n",
        "cat_columns = ['gender', 'own_car', 'own_realty']\n",
        "\n",
        "# colors\n",
        "colors = [[\"#eb9d9b\", \"#93baea\"],['#f5c66f','#2aade3'],['#2aade3','#f5c66f']]\n",
        "\n",
        "# Plot the pie chart for the choosen categorical cols\n",
        "pie_plot(cat_columns, app, titles, colors)"
      ],
      "metadata": {
        "colab": {
          "base_uri": "https://localhost:8080/",
          "height": 209
        },
        "id": "AehJPZNLpMtc",
        "outputId": "2524feb4-5a75-4f3e-a337-484fa246b5fd"
      },
      "execution_count": null,
      "outputs": [
        {
          "output_type": "display_data",
          "data": {
            "text/plain": [
              "<Figure size 1008x360 with 3 Axes>"
            ],
            "image/png": "[encoded data removed]"
          },
          "metadata": {}
        }
      ]
    },
    {
      "cell_type": "markdown",
      "source": [
        "According to the previous graph:\n",
        "* Gender of the customers are 64% female and 35%\n",
        "are male.\n",
        "\n",
        "* 36% of customers own a car.\n",
        "* 68% of customers own a realty."
      ],
      "metadata": {
        "id": "I3OPd-7nySw8"
      }
    },
    {
      "cell_type": "code",
      "source": [
        "sns.set(style=\"darkgrid\")\n",
        "\n",
        "car_income_agg = app.groupby(['own_car', 'income_type']).size().reset_index().pivot(columns='own_car', index='income_type', values=0)\n",
        "car_income_agg.plot(kind='barh', stacked=True)\n",
        "plt.title(\"Distribution of own a car with income type\", fontsize=13, color= '#343a67', fontweight='bold', loc='left')\n",
        "plt.show()"
      ],
      "metadata": {
        "colab": {
          "base_uri": "https://localhost:8080/",
          "height": 284
        },
        "id": "wRNsZwnEGLaT",
        "outputId": "f8cffcbe-eddc-4527-e18d-216d31c34fc8"
      },
      "execution_count": null,
      "outputs": [
        {
          "output_type": "display_data",
          "data": {
            "text/plain": [
              "<Figure size 432x288 with 1 Axes>"
            ],
            "image/png": "[encoded data removed]"
          },
          "metadata": {}
        }
      ]
    },
    {
      "cell_type": "markdown",
      "source": [
        "Distribution of own a car with income type:\n",
        "* about 50% are working\n",
        "customers and about 30% out of them does not own a car and 20% own a car. \n",
        "* about 20% are commercial associates and about 13% out of them does not own a car and 10% own a car. \n",
        "* about 15 % are pensioner and about 13 % out of them does not own a car and 4% own a car."
      ],
      "metadata": {
        "id": "XGGkGWhPXhOa"
      }
    },
    {
      "cell_type": "code",
      "source": [
        "sns.set(style=\"darkgrid\")\n",
        "\n",
        "family_status_income_agg = app.groupby(['family_status', 'income_type']).size().reset_index().pivot(columns='income_type', index='family_status', values=0)\n",
        "family_status_income_agg.plot(kind='barh', stacked=True)\n",
        "plt.title(\"Distribution of family status with income type\", fontsize=13, color= '#343a67', fontweight='bold', loc='left')\n",
        "plt.show()"
      ],
      "metadata": {
        "colab": {
          "base_uri": "https://localhost:8080/",
          "height": 284
        },
        "id": "-LUVJa1NRktL",
        "outputId": "350caa36-26ae-44d8-b670-45ed28d22569"
      },
      "execution_count": null,
      "outputs": [
        {
          "output_type": "display_data",
          "data": {
            "text/plain": [
              "<Figure size 432x288 with 1 Axes>"
            ],
            "image/png": "[encoded data removed]"
          },
          "metadata": {}
        }
      ]
    },
    {
      "cell_type": "markdown",
      "source": [
        "Distribution of own a car with income type:\n",
        "* About 60% are married and about 30% of them are working, about 15% of them are commercial associates, about 10% are pensioner and less than 10% are state servants."
      ],
      "metadata": {
        "id": "SGvtN8BoXfXD"
      }
    },
    {
      "cell_type": "code",
      "source": [
        "sns.set(style=\"darkgrid\")\n",
        "\n",
        "fig, axes = plt.subplots(1,2)\n",
        "\n",
        "g1= sns.countplot(y=app.housing_type,linewidth=1.2, ax=axes[0])\n",
        "g1.set_title(\"Customer Distribution by Housing Type\", fontsize=13, color= '#343a67', fontweight='bold', loc='left')\n",
        "g1.set_xlabel(\"Count\")\n",
        "g1.set_ylabel(\"Housing Type\")\n",
        "\n",
        "g2= sns.countplot(y=app.education_type, ax=axes[1])\n",
        "g2.set_title(\"Customer Distribution by Education\", fontsize=13, color= '#343a67', fontweight='bold', loc='left')\n",
        "g2.set_xlabel(\"Count\")\n",
        "g2.set_ylabel(\"Education Type\")\n",
        "\n",
        "fig.set_size_inches(14,5)\n",
        "\n",
        "plt.tight_layout()\n",
        "\n",
        "plt.show()"
      ],
      "metadata": {
        "colab": {
          "base_uri": "https://localhost:8080/",
          "height": 385
        },
        "id": "FolUnM_ejRJ7",
        "outputId": "bc1ed63f-b2da-4ce1-bea8-8895abbfc10d"
      },
      "execution_count": null,
      "outputs": [
        {
          "output_type": "display_data",
          "data": {
            "text/plain": [
              "<Figure size 1008x360 with 2 Axes>"
            ],
            "image/png": "[encoded data removed]"
          },
          "metadata": {}
        }
      ]
    },
    {
      "cell_type": "markdown",
      "source": [
        "Customer Distribution by Housing Type:\n",
        "* about 80% have a house, and less than 5% are living with parents.\n",
        "\n",
        "Customer Distribution by Education Type:\n",
        "* about 65% have secondary education, about 23% have higher education and less than 5% have incomplete higher education.\n",
        "\n"
      ],
      "metadata": {
        "id": "kP_uQTL4m8GY"
      }
    },
    {
      "cell_type": "markdown",
      "source": [
        "##### Check the distribution of some continuous variables"
      ],
      "metadata": {
        "id": "WONNAIBjyu5N"
      }
    },
    {
      "cell_type": "code",
      "source": [
        "sns.set(style=\"darkgrid\")\n",
        "\n",
        "# Distribution of Number of children\n",
        "app['children_num'].hist(bins=20)\n",
        "fig = plt.gcf()\n",
        "fig.set_size_inches(15, 7)\n",
        "plt.title(\"Distribution of Numbers of Children\", fontsize=16, color= '#343a67', fontweight='bold')\n",
        "plt.show()"
      ],
      "metadata": {
        "colab": {
          "base_uri": "https://localhost:8080/",
          "height": 320
        },
        "id": "6bU188PpqO9V",
        "outputId": "2b60bc47-cab2-4c6f-9cb5-6e02c59b3f28"
      },
      "execution_count": null,
      "outputs": [
        {
          "output_type": "display_data",
          "data": {
            "text/plain": [
              "<Figure size 1080x504 with 1 Axes>"
            ],
            "image/png": "[encoded data removed]"
          },
          "metadata": {}
        }
      ]
    },
    {
      "cell_type": "markdown",
      "source": [
        "= Note: the distribution is right skewed (there're outliers).\n",
        "\n",
        "Distribution of Numbers of Children:\n",
        "* about 65% don't have a child. about 18%\n",
        "have one child, and about 8% have two children."
      ],
      "metadata": {
        "id": "CbJwBF5DvaLb"
      }
    },
    {
      "cell_type": "markdown",
      "source": [
        "### Converting Categorical columns to numeric"
      ],
      "metadata": {
        "id": "21dalUDXr_IW"
      }
    },
    {
      "cell_type": "markdown",
      "source": [
        "\n",
        "The application dataset has 8 categorical features, for better usability of the information, I'll convert them to numeric data."
      ],
      "metadata": {
        "id": "Qbn6S0uox88Z"
      }
    },
    {
      "cell_type": "code",
      "source": [
        "# Get the categorical features from application table\n",
        "categorical_cols = app.columns[app.dtypes == 'object'].tolist() \n",
        "\n",
        "# Print the unique values of categorical features\n",
        "for col in app[categorical_cols].columns:\n",
        "    print(col + \":\")\n",
        "    print(list(set(app[categorical_cols][col])), '\\n')"
      ],
      "metadata": {
        "colab": {
          "base_uri": "https://localhost:8080/"
        },
        "id": "54F2SLf8xZKg",
        "outputId": "4503c43d-a850-44b7-c344-3e90753d687b"
      },
      "execution_count": null,
      "outputs": [
        {
          "output_type": "stream",
          "name": "stdout",
          "text": [
            "gender:\n",
            "['F', 'M'] \n",
            "\n",
            "own_car:\n",
            "['Y', 'N'] \n",
            "\n",
            "own_realty:\n",
            "['Y', 'N'] \n",
            "\n",
            "income_type:\n",
            "['Commercial associate', 'Pensioner', 'Working', 'State servant', 'Student'] \n",
            "\n",
            "education_type:\n",
            "['Incomplete higher', 'Secondary / secondary special', 'Lower secondary', 'Higher education', 'Academic degree'] \n",
            "\n",
            "family_status:\n",
            "['Married', 'Single / not married', 'Separated', 'Civil marriage', 'Widow'] \n",
            "\n",
            "housing_type:\n",
            "['Co-op apartment', 'Office apartment', 'House / apartment', 'Municipal apartment', 'With parents', 'Rented apartment'] \n",
            "\n",
            "occupation:\n",
            "['HR staff', 'Laborers', 'Waiters/barmen staff', 'Cleaning staff', 'Managers', 'Others', 'Security staff', 'High skill tech staff', 'Medicine staff', 'Secretaries', 'Low-skill Laborers', 'Core staff', 'Private service staff', 'Realty agents', 'Accountants', 'Cooking staff', 'IT staff', 'Drivers', 'Sales staff'] \n",
            "\n"
          ]
        }
      ]
    },
    {
      "cell_type": "code",
      "source": [
        "# Converting categorical data into numerical\n",
        "app[\"gender\"]  = app['gender'].replace(['F', 'M'], [0, 1])\n",
        "app[\"own_car\"] = app[\"own_car\"].replace(['Y', 'N'], [1, 0])\n",
        "\n",
        "app[\"own_realty\"] = app[\"own_realty\"].replace(['Y', 'N'], [1, 0])\n",
        "\n",
        "app[\"is_working\"] = app[\"income_type\"].replace(['Commercial associate', 'Pensioner',\n",
        "                                                'State servant', 'Working', 'Student'],\n",
        "                                                [1, 0, 1, 1, 0])\n",
        "app[\"is_married\"] = app[\"family_status\"].replace(['Civil marriage', 'Separated',\n",
        "                                                 'Single / not married', 'Widow',\n",
        "                                                  'Married'],\n",
        "                                                  [1, 0, 0, 0, 1])\n"
      ],
      "metadata": {
        "id": "BIBCjc0hzcsD"
      },
      "execution_count": null,
      "outputs": []
    },
    {
      "cell_type": "markdown",
      "source": [
        "### Adjust values of some columns"
      ],
      "metadata": {
        "id": "CzGVvblV25oO"
      }
    },
    {
      "cell_type": "code",
      "source": [
        "# Adjust the values of some columns and map it to our dataframe\n",
        "income_type = {'Commercial associate': 'Working',\n",
        "               'State servant': 'Working',\n",
        "               'Working': 'Working',\n",
        "               'Pensioner': 'Pensioner',\n",
        "               'Student': 'Student'}\n",
        "app[\"income_type\"] = app[\"income_type\"].map(income_type)\n",
        "\n",
        "\n",
        "education_type = {'Secondary / secondary special': 'Secondary',\n",
        "                  'Lower secondary': 'Secondary',\n",
        "                  'Higher education': 'Higher education',\n",
        "                  'Incomplete higher': 'Higher education',\n",
        "                  'Academic degree': 'Academic degree'}\n",
        "app[\"education_type\"] = app[\"education_type\"].map(education_type)\n",
        "\n",
        "\n",
        "family_status = {'Single / not married': 'Single',\n",
        "                     'Separated': 'Single',\n",
        "                     'Widow': 'Single',\n",
        "                     'Civil marriage': 'Married',\n",
        "                    'Married': 'Married'}\n",
        "app[\"family_status\"] = app[\"family_status\"].map(family_status)\n",
        "\n",
        "\n",
        "housing_type = {'House / apartment' : 'House / Apartment',\n",
        "                   'With parents': 'With parents',\n",
        "                    'Municipal apartment' : 'House / Apartment',\n",
        "                    'Rented apartment': 'House / Apartment',\n",
        "                    'Office apartment': 'House / Apartment',\n",
        "                    'Co-op apartment': 'House / Apartment'}\n",
        "app[\"housing_type\"] = app[\"housing_type\"].map(housing_type)"
      ],
      "metadata": {
        "id": "4QbPVxwY1V46"
      },
      "execution_count": null,
      "outputs": []
    },
    {
      "cell_type": "markdown",
      "source": [
        "## Feature Engineering"
      ],
      "metadata": {
        "id": "IgzwnjQi3Bhh"
      }
    },
    {
      "cell_type": "markdown",
      "source": [
        "### Create new features"
      ],
      "metadata": {
        "id": "tvFCPCz070aL"
      }
    },
    {
      "cell_type": "code",
      "source": [
        "# Get the month when users open their accounts\n",
        "starting_month = pd.DataFrame(credit.groupby([\"ID\"])[\"MONTHS_BALANCE\"].agg(min))\n",
        "starting_month = starting_month.rename(columns={'MONTHS_BALANCE': 'Start_Month'}) \n",
        "\n",
        "customerDF = pd.merge(app, starting_month, how=\"left\", on=\"ID\") #merge to credit data"
      ],
      "metadata": {
        "id": "yEQQ2Ca93EpK"
      },
      "execution_count": null,
      "outputs": []
    },
    {
      "cell_type": "code",
      "source": [
        "# Get the household size\n",
        "customerDF[\"household_size\"] = customerDF[\"children_num\"] + customerDF[\"is_married\"].apply(lambda x: 2 if x==1 else 1)\n",
        "\n",
        "#convert these birth days into positive numbers and years.\n",
        "customerDF[\"age\"] = customerDF.birth_days.apply(lambda x: round(x/-365,0))\n",
        "\n",
        "#convert these employment days into positive numbers and years.\n",
        "customerDF[\"experience\"] = customerDF.emplyment_days.apply(lambda x: round(x/-365,0) if x<0 else 0)\n",
        "\n",
        "customerDF=customerDF.drop(columns=['emplyment_days','birth_days','children_num'])\n"
      ],
      "metadata": {
        "id": "I623l6Uc4_jo"
      },
      "execution_count": null,
      "outputs": []
    },
    {
      "cell_type": "code",
      "source": [
        "# let's examine how many columns we will obtain after one hot encoding these vars\n",
        "pd.get_dummies(customerDF, drop_first=True).shape"
      ],
      "metadata": {
        "colab": {
          "base_uri": "https://localhost:8080/"
        },
        "id": "zBT-dvEa-ljF",
        "outputId": "ad386267-ab8e-42de-85bc-73eac65ced6e"
      },
      "execution_count": null,
      "outputs": [
        {
          "output_type": "execute_result",
          "data": {
            "text/plain": [
              "(90085, 39)"
            ]
          },
          "metadata": {},
          "execution_count": 356
        }
      ]
    },
    {
      "cell_type": "markdown",
      "source": [
        "we can see that from just some initial categorical variables, we ended up with 39 new variables.\n",
        "\n",
        "So, What can we do?"
      ],
      "metadata": {
        "id": "Mob8hgSq__hh"
      }
    },
    {
      "cell_type": "markdown",
      "source": [
        "I only apply one hot encoding on the adjusted values of each categorical attribute, rather than all the values, in order to avoid an explosion in the number of features from variables with a huge vocabulary.\n",
        "\n",
        "> Since the features I chose don't have unknown category, I can use `get_dummies` instead of `OneHotEncoder`."
      ],
      "metadata": {
        "id": "M4ZQiT4oB019"
      }
    },
    {
      "cell_type": "code",
      "source": [
        "# Get the dummies of the previous adjusted features\n",
        "customerDF = pd.get_dummies(customerDF, columns=['income_type', 'education_type', \n",
        "                                                 'family_status', 'housing_type'])"
      ],
      "metadata": {
        "id": "pvs0yRCiATcz"
      },
      "execution_count": null,
      "outputs": []
    },
    {
      "cell_type": "code",
      "source": [
        "# Display the first five rows of customerDF table\n",
        "customerDF.head()"
      ],
      "metadata": {
        "colab": {
          "base_uri": "https://localhost:8080/",
          "height": 334
        },
        "id": "eAsIvDWPCvpX",
        "outputId": "cdb6eef2-ff71-4f45-d4ec-fe390a5d78a1"
      },
      "execution_count": null,
      "outputs": [
        {
          "output_type": "execute_result",
          "data": {
            "text/plain": [
              "        ID  gender  own_car  own_realty     income  own_work_phone  own_phone  \\\n",
              "0  5008804       1        1           1 427,500.00               1          0   \n",
              "1  5008806       1        1           1 112,500.00               0          0   \n",
              "2  5008808       0        0           1 270,000.00               0          1   \n",
              "3  5008812       0        0           1 283,500.00               0          0   \n",
              "4  5008815       1        1           1 270,000.00               1          1   \n",
              "\n",
              "   own_email      occupation  ...  income_type_Student  income_type_Working  \\\n",
              "0          0          Others  ...                    0                    1   \n",
              "1          0  Security staff  ...                    0                    1   \n",
              "2          1     Sales staff  ...                    0                    1   \n",
              "3          0          Others  ...                    0                    0   \n",
              "4          1     Accountants  ...                    0                    1   \n",
              "\n",
              "   education_type_Academic degree  education_type_Higher education  \\\n",
              "0                               0                                1   \n",
              "1                               0                                0   \n",
              "2                               0                                0   \n",
              "3                               0                                1   \n",
              "4                               0                                1   \n",
              "\n",
              "   education_type_Secondary  family_status_Married  family_status_Single  \\\n",
              "0                         0                      1                     0   \n",
              "1                         1                      1                     0   \n",
              "2                         1                      0                     1   \n",
              "3                         0                      0                     1   \n",
              "4                         0                      1                     0   \n",
              "\n",
              "   housing_type_House / Apartment  housing_type_With parents  \n",
              "0                               1                          0  \n",
              "1                               1                          0  \n",
              "2                               1                          0  \n",
              "3                               1                          0  \n",
              "4                               1                          0  \n",
              "\n",
              "[5 rows x 26 columns]"
            ],
            "text/html": [
              "\n",
              "  <div id=\"df-57b41ead-26f8-4c8f-8302-3aecb5b27c68\">\n",
              "    <div class=\"colab-df-container\">\n",
              "      <div>\n",
              "<style scoped>\n",
              "    .dataframe tbody tr th:only-of-type {\n",
              "        vertical-align: middle;\n",
              "    }\n",
              "\n",
              "    .dataframe tbody tr th {\n",
              "        vertical-align: top;\n",
              "    }\n",
              "\n",
              "    .dataframe thead th {\n",
              "        text-align: right;\n",
              "    }\n",
              "</style>\n",
              "<table border=\"1\" class=\"dataframe\">\n",
              "  <thead>\n",
              "    <tr style=\"text-align: right;\">\n",
              "      <th></th>\n",
              "      <th>ID</th>\n",
              "      <th>gender</th>\n",
              "      <th>own_car</th>\n",
              "      <th>own_realty</th>\n",
              "      <th>income</th>\n",
              "      <th>own_work_phone</th>\n",
              "      <th>own_phone</th>\n",
              "      <th>own_email</th>\n",
              "      <th>occupation</th>\n",
              "      <th>...</th>\n",
              "      <th>income_type_Student</th>\n",
              "      <th>income_type_Working</th>\n",
              "      <th>education_type_Academic degree</th>\n",
              "      <th>education_type_Higher education</th>\n",
              "      <th>education_type_Secondary</th>\n",
              "      <th>family_status_Married</th>\n",
              "      <th>family_status_Single</th>\n",
              "      <th>housing_type_House / Apartment</th>\n",
              "      <th>housing_type_With parents</th>\n",
              "    </tr>\n",
              "  </thead>\n",
              "  <tbody>\n",
              "    <tr>\n",
              "      <th>0</th>\n",
              "      <td>5008804</td>\n",
              "      <td>1</td>\n",
              "      <td>1</td>\n",
              "      <td>1</td>\n",
              "      <td>427,500.00</td>\n",
              "      <td>1</td>\n",
              "      <td>0</td>\n",
              "      <td>0</td>\n",
              "      <td>Others</td>\n",
              "      <td>...</td>\n",
              "      <td>0</td>\n",
              "      <td>1</td>\n",
              "      <td>0</td>\n",
              "      <td>1</td>\n",
              "      <td>0</td>\n",
              "      <td>1</td>\n",
              "      <td>0</td>\n",
              "      <td>1</td>\n",
              "      <td>0</td>\n",
              "    </tr>\n",
              "    <tr>\n",
              "      <th>1</th>\n",
              "      <td>5008806</td>\n",
              "      <td>1</td>\n",
              "      <td>1</td>\n",
              "      <td>1</td>\n",
              "      <td>112,500.00</td>\n",
              "      <td>0</td>\n",
              "      <td>0</td>\n",
              "      <td>0</td>\n",
              "      <td>Security staff</td>\n",
              "      <td>...</td>\n",
              "      <td>0</td>\n",
              "      <td>1</td>\n",
              "      <td>0</td>\n",
              "      <td>0</td>\n",
              "      <td>1</td>\n",
              "      <td>1</td>\n",
              "      <td>0</td>\n",
              "      <td>1</td>\n",
              "      <td>0</td>\n",
              "    </tr>\n",
              "    <tr>\n",
              "      <th>2</th>\n",
              "      <td>5008808</td>\n",
              "      <td>0</td>\n",
              "      <td>0</td>\n",
              "      <td>1</td>\n",
              "      <td>270,000.00</td>\n",
              "      <td>0</td>\n",
              "      <td>1</td>\n",
              "      <td>1</td>\n",
              "      <td>Sales staff</td>\n",
              "      <td>...</td>\n",
              "      <td>0</td>\n",
              "      <td>1</td>\n",
              "      <td>0</td>\n",
              "      <td>0</td>\n",
              "      <td>1</td>\n",
              "      <td>0</td>\n",
              "      <td>1</td>\n",
              "      <td>1</td>\n",
              "      <td>0</td>\n",
              "    </tr>\n",
              "    <tr>\n",
              "      <th>3</th>\n",
              "      <td>5008812</td>\n",
              "      <td>0</td>\n",
              "      <td>0</td>\n",
              "      <td>1</td>\n",
              "      <td>283,500.00</td>\n",
              "      <td>0</td>\n",
              "      <td>0</td>\n",
              "      <td>0</td>\n",
              "      <td>Others</td>\n",
              "      <td>...</td>\n",
              "      <td>0</td>\n",
              "      <td>0</td>\n",
              "      <td>0</td>\n",
              "      <td>1</td>\n",
              "      <td>0</td>\n",
              "      <td>0</td>\n",
              "      <td>1</td>\n",
              "      <td>1</td>\n",
              "      <td>0</td>\n",
              "    </tr>\n",
              "    <tr>\n",
              "      <th>4</th>\n",
              "      <td>5008815</td>\n",
              "      <td>1</td>\n",
              "      <td>1</td>\n",
              "      <td>1</td>\n",
              "      <td>270,000.00</td>\n",
              "      <td>1</td>\n",
              "      <td>1</td>\n",
              "      <td>1</td>\n",
              "      <td>Accountants</td>\n",
              "      <td>...</td>\n",
              "      <td>0</td>\n",
              "      <td>1</td>\n",
              "      <td>0</td>\n",
              "      <td>1</td>\n",
              "      <td>0</td>\n",
              "      <td>1</td>\n",
              "      <td>0</td>\n",
              "      <td>1</td>\n",
              "      <td>0</td>\n",
              "    </tr>\n",
              "  </tbody>\n",
              "</table>\n",
              "<p>5 rows × 26 columns</p>\n",
              "</div>\n",
              "      <button class=\"colab-df-convert\" onclick=\"convertToInteractive('df-57b41ead-26f8-4c8f-8302-3aecb5b27c68')\"\n",
              "              title=\"Convert this dataframe to an interactive table.\"\n",
              "              style=\"display:none;\">\n",
              "        \n",
              "  <svg xmlns=\"http://www.w3.org/2000/svg\" height=\"24px\"viewBox=\"0 0 24 24\"\n",
              "       width=\"24px\">\n",
              "    <path d=\"M0 0h24v24H0V0z\" fill=\"none\"/>\n",
              "    <path d=\"M18.56 5.44l.94 2.06.94-2.06 2.06-.94-2.06-.94-.94-2.06-.94 2.06-2.06.94zm-11 1L8.5 8.5l.94-2.06 2.06-.94-2.06-.94L8.5 2.5l-.94 2.06-2.06.94zm10 10l.94 2.06.94-2.06 2.06-.94-2.06-.94-.94-2.06-.94 2.06-2.06.94z\"/><path d=\"M17.41 7.96l-1.37-1.37c-.4-.4-.92-.59-1.43-.59-.52 0-1.04.2-1.43.59L10.3 9.45l-7.72 7.72c-.78.78-.78 2.05 0 2.83L4 21.41c.39.39.9.59 1.41.59.51 0 1.02-.2 1.41-.59l7.78-7.78 2.81-2.81c.8-.78.8-2.07 0-2.86zM5.41 20L4 18.59l7.72-7.72 1.47 1.35L5.41 20z\"/>\n",
              "  </svg>\n",
              "      </button>\n",
              "      \n",
              "  <style>\n",
              "    .colab-df-container {\n",
              "      display:flex;\n",
              "      flex-wrap:wrap;\n",
              "      gap: 12px;\n",
              "    }\n",
              "\n",
              "    .colab-df-convert {\n",
              "      background-color: #E8F0FE;\n",
              "      border: none;\n",
              "      border-radius: 50%;\n",
              "      cursor: pointer;\n",
              "      display: none;\n",
              "      fill: #1967D2;\n",
              "      height: 32px;\n",
              "      padding: 0 0 0 0;\n",
              "      width: 32px;\n",
              "    }\n",
              "\n",
              "    .colab-df-convert:hover {\n",
              "      background-color: #E2EBFA;\n",
              "      box-shadow: 0px 1px 2px rgba(60, 64, 67, 0.3), 0px 1px 3px 1px rgba(60, 64, 67, 0.15);\n",
              "      fill: #174EA6;\n",
              "    }\n",
              "\n",
              "    [theme=dark] .colab-df-convert {\n",
              "      background-color: #3B4455;\n",
              "      fill: #D2E3FC;\n",
              "    }\n",
              "\n",
              "    [theme=dark] .colab-df-convert:hover {\n",
              "      background-color: #434B5C;\n",
              "      box-shadow: 0px 1px 3px 1px rgba(0, 0, 0, 0.15);\n",
              "      filter: drop-shadow(0px 1px 2px rgba(0, 0, 0, 0.3));\n",
              "      fill: #FFFFFF;\n",
              "    }\n",
              "  </style>\n",
              "\n",
              "      <script>\n",
              "        const buttonEl =\n",
              "          document.querySelector('#df-57b41ead-26f8-4c8f-8302-3aecb5b27c68 button.colab-df-convert');\n",
              "        buttonEl.style.display =\n",
              "          google.colab.kernel.accessAllowed ? 'block' : 'none';\n",
              "\n",
              "        async function convertToInteractive(key) {\n",
              "          const element = document.querySelector('#df-57b41ead-26f8-4c8f-8302-3aecb5b27c68');\n",
              "          const dataTable =\n",
              "            await google.colab.kernel.invokeFunction('convertToInteractive',\n",
              "                                                     [key], {});\n",
              "          if (!dataTable) return;\n",
              "\n",
              "          const docLinkHtml = 'Like what you see? Visit the ' +\n",
              "            '<a target=\"_blank\" href=https://colab.research.google.com/notebooks/data_table.ipynb>data table notebook</a>'\n",
              "            + ' to learn more about interactive tables.';\n",
              "          element.innerHTML = '';\n",
              "          dataTable['output_type'] = 'display_data';\n",
              "          await google.colab.output.renderOutput(dataTable, element);\n",
              "          const docLink = document.createElement('div');\n",
              "          docLink.innerHTML = docLinkHtml;\n",
              "          element.appendChild(docLink);\n",
              "        }\n",
              "      </script>\n",
              "    </div>\n",
              "  </div>\n",
              "  "
            ]
          },
          "metadata": {},
          "execution_count": 358
        }
      ]
    },
    {
      "cell_type": "code",
      "source": [
        "# Display the shape of customerDF table\n",
        "customerDF.shape"
      ],
      "metadata": {
        "colab": {
          "base_uri": "https://localhost:8080/"
        },
        "id": "OlLXF3lNC5vw",
        "outputId": "072be054-7698-432b-8e4e-e85f4a90c16a"
      },
      "execution_count": null,
      "outputs": [
        {
          "output_type": "execute_result",
          "data": {
            "text/plain": [
              "(90085, 26)"
            ]
          },
          "metadata": {},
          "execution_count": 359
        }
      ]
    },
    {
      "cell_type": "markdown",
      "source": [
        "### Outliers Analysis"
      ],
      "metadata": {
        "id": "53PPvWMLDLJT"
      }
    },
    {
      "cell_type": "code",
      "source": [
        "# Function to plot box plot to check for outliers\n",
        "def box_plot(data, numerical_cols, titles):\n",
        "    plt.figure(figsize=(17, 5))\n",
        "    for i in range(len(numerical_cols)):\n",
        "        plt.subplot(2, 2, i + 1)\n",
        "        sns.boxplot(x=data[numerical_cols[i]])\n",
        "    plt.tight_layout()\n",
        "    plt.show()\n",
        "\n",
        "# Columns choosen for checking\n",
        "numerical_cols = [\"income\", \"age\", \"experience\", \"family_size\"]\n",
        "titles = [\"Income\", \"Age\", \"Experience\", \"Family Member Count\"]\n",
        "\n",
        "# Plot box plot before removing outliers\n",
        "box_plot(customerDF, numerical_cols, titles)"
      ],
      "metadata": {
        "colab": {
          "base_uri": "https://localhost:8080/",
          "height": 385
        },
        "id": "JQg7eqf5DSBk",
        "outputId": "14ba162f-8e8c-4bd8-8f9e-e0e518b1ecda"
      },
      "execution_count": null,
      "outputs": [
        {
          "output_type": "display_data",
          "data": {
            "text/plain": [
              "<Figure size 1224x360 with 4 Axes>"
            ],
            "image/png": "[encoded data removed]"
          },
          "metadata": {}
        }
      ]
    },
    {
      "cell_type": "markdown",
      "source": [
        "As shown above,\n",
        "\n",
        "There are some outliers values in income, family size, and employment rate columns.\n",
        "\n",
        "Also, as we remember from the children number skewed distribution, there're some outliers values in children count too.\n",
        "\n",
        "I need to remove these outliers to make sure they do not affect our model results.\n",
        "I will now remove these outliers by using z-scores."
      ],
      "metadata": {
        "id": "wA2DA_URJYcj"
      }
    },
    {
      "cell_type": "code",
      "source": [
        "# Function to calculate z-scores to check for outliers\n",
        "def calculate_z_scores(df, cols):\n",
        "    for col in cols:\n",
        "        df[col+\"_z_score\"] = (df[col] - df[col].mean())/df[col].std()\n",
        "    return df\n",
        "\n",
        "new_df = calculate_z_scores(df = customerDF, cols = [\"income\",\"experience\",\"household_size\"])\n",
        "\n",
        "\n",
        "#removing outliers\n",
        "filter_1 = new_df.household_size_z_score.abs() <= 3.5\n",
        "filter_2 = new_df.experience_z_score.abs() <= 3.5\n",
        "filter_3 = new_df.income_z_score.abs() <= 3.5\n",
        "\n",
        "customer_apps = new_df[filter_1 & filter_2 & filter_3]\n",
        "customer_apps.drop(columns= [\"income_z_score\",\"experience_z_score\",\"household_size_z_score\"],inplace=True)"
      ],
      "metadata": {
        "id": "jHknVA53KOUK"
      },
      "execution_count": null,
      "outputs": []
    },
    {
      "cell_type": "code",
      "source": [
        "# Print shapes before and after removing outliers\n",
        "print(\"Number of apps =\", customerDF.shape)\n",
        "print(\"Number of apps after removing outliers =\", customer_apps.shape)"
      ],
      "metadata": {
        "colab": {
          "base_uri": "https://localhost:8080/"
        },
        "id": "NPC7bdA2Lvux",
        "outputId": "256fd988-a88c-455f-dc90-0f83bf5f923e"
      },
      "execution_count": null,
      "outputs": [
        {
          "output_type": "stream",
          "name": "stdout",
          "text": [
            "Number of apps = (90085, 29)\n",
            "Number of apps after removing outliers = (87856, 26)\n"
          ]
        }
      ]
    },
    {
      "cell_type": "code",
      "source": [
        "# Plot box plot after removing outliers\n",
        "box_plot(customer_apps, numerical_cols, titles)"
      ],
      "metadata": {
        "colab": {
          "base_uri": "https://localhost:8080/",
          "height": 198
        },
        "id": "-d2X1ugOL6aL",
        "outputId": "c4ba33aa-142f-4174-c824-445cb06dc5d4"
      },
      "execution_count": null,
      "outputs": [
        {
          "output_type": "display_data",
          "data": {
            "text/plain": [
              "<Figure size 1224x360 with 4 Axes>"
            ],
            "image/png": "[encoded data removed]"
          },
          "metadata": {}
        }
      ]
    },
    {
      "cell_type": "markdown",
      "source": [
        "### Create target column"
      ],
      "metadata": {
        "id": "3Wlk3qSHq7Xv"
      }
    },
    {
      "cell_type": "code",
      "source": [
        "# Get the unique values of the STATUS column\n",
        "status_uniques = credit['STATUS'].unique()\n",
        "print('STATUS =', status_uniques)"
      ],
      "metadata": {
        "colab": {
          "base_uri": "https://localhost:8080/"
        },
        "id": "Roqs2NfVq6tP",
        "outputId": "cf805430-c57f-4e81-f1f1-156527931fcf"
      },
      "execution_count": null,
      "outputs": [
        {
          "output_type": "stream",
          "name": "stdout",
          "text": [
            "STATUS = ['X' '0' 'C' '1' '2' '3' '4' '5']\n"
          ]
        }
      ]
    },
    {
      "cell_type": "code",
      "source": [
        "# Add new coulmn dep_value with all None on credit table\n",
        "# Then, replace None values which has values on STATUS column in ('2', '3', '4' and '5')\n",
        "# with 'Yes'\n",
        "credit['dep_value'] = None\n",
        "credit['dep_value'][credit['STATUS'] == '2'] = 'Yes' \n",
        "credit['dep_value'][credit['STATUS'] == '3'] = 'Yes' \n",
        "credit['dep_value'][credit['STATUS'] == '4'] = 'Yes' \n",
        "credit['dep_value'][credit['STATUS'] == '5'] = 'Yes' "
      ],
      "metadata": {
        "id": "eN52njkRrEB3"
      },
      "execution_count": null,
      "outputs": []
    },
    {
      "cell_type": "markdown",
      "source": [
        "Now we need to determine how we should handle the loan repayment status of the customers. With this dataset, I defined dep_value = No” for those who didn’t have any loan or paid off that month while the remaining data, any overdue loan, was mapped to dep_value = Yes”."
      ],
      "metadata": {
        "id": "v6zIOvbGl1EG"
      }
    },
    {
      "cell_type": "code",
      "source": [
        "# Create Table called record_count with the data grouped from credit table by ID \n",
        "\n",
        "record_count = credit.groupby('ID').count()\n",
        "record_count['dep_value'][record_count['dep_value']  > 0] = 'Yes' \n",
        "record_count['dep_value'][record_count['dep_value'] == 0] = 'No' \n",
        "record_count = record_count[['dep_value']]\n",
        "\n",
        "record_count.head()"
      ],
      "metadata": {
        "colab": {
          "base_uri": "https://localhost:8080/"
        },
        "id": "kwT-iQSgrUOt",
        "outputId": "14e5426b-5627-4f6a-ed77-dd1208aa982d"
      },
      "execution_count": null,
      "outputs": [
        {
          "output_type": "execute_result",
          "data": {
            "text/plain": [
              "        dep_value\n",
              "ID               \n",
              "5001711        No\n",
              "5001712        No\n",
              "5001713        No\n",
              "5001714        No\n",
              "5001715        No"
            ],
            "text/html": [
              "\n",
              "  <div id=\"df-c00113ac-d6ce-44f7-ae84-90a2e9c38bbf\">\n",
              "    <div class=\"colab-df-container\">\n",
              "      <div>\n",
              "<style scoped>\n",
              "    .dataframe tbody tr th:only-of-type {\n",
              "        vertical-align: middle;\n",
              "    }\n",
              "\n",
              "    .dataframe tbody tr th {\n",
              "        vertical-align: top;\n",
              "    }\n",
              "\n",
              "    .dataframe thead th {\n",
              "        text-align: right;\n",
              "    }\n",
              "</style>\n",
              "<table border=\"1\" class=\"dataframe\">\n",
              "  <thead>\n",
              "    <tr style=\"text-align: right;\">\n",
              "      <th></th>\n",
              "      <th>dep_value</th>\n",
              "    </tr>\n",
              "    <tr>\n",
              "      <th>ID</th>\n",
              "      <th></th>\n",
              "    </tr>\n",
              "  </thead>\n",
              "  <tbody>\n",
              "    <tr>\n",
              "      <th>5001711</th>\n",
              "      <td>No</td>\n",
              "    </tr>\n",
              "    <tr>\n",
              "      <th>5001712</th>\n",
              "      <td>No</td>\n",
              "    </tr>\n",
              "    <tr>\n",
              "      <th>5001713</th>\n",
              "      <td>No</td>\n",
              "    </tr>\n",
              "    <tr>\n",
              "      <th>5001714</th>\n",
              "      <td>No</td>\n",
              "    </tr>\n",
              "    <tr>\n",
              "      <th>5001715</th>\n",
              "      <td>No</td>\n",
              "    </tr>\n",
              "  </tbody>\n",
              "</table>\n",
              "</div>\n",
              "      <button class=\"colab-df-convert\" onclick=\"convertToInteractive('df-c00113ac-d6ce-44f7-ae84-90a2e9c38bbf')\"\n",
              "              title=\"Convert this dataframe to an interactive table.\"\n",
              "              style=\"display:none;\">\n",
              "        \n",
              "  <svg xmlns=\"http://www.w3.org/2000/svg\" height=\"24px\"viewBox=\"0 0 24 24\"\n",
              "       width=\"24px\">\n",
              "    <path d=\"M0 0h24v24H0V0z\" fill=\"none\"/>\n",
              "    <path d=\"M18.56 5.44l.94 2.06.94-2.06 2.06-.94-2.06-.94-.94-2.06-.94 2.06-2.06.94zm-11 1L8.5 8.5l.94-2.06 2.06-.94-2.06-.94L8.5 2.5l-.94 2.06-2.06.94zm10 10l.94 2.06.94-2.06 2.06-.94-2.06-.94-.94-2.06-.94 2.06-2.06.94z\"/><path d=\"M17.41 7.96l-1.37-1.37c-.4-.4-.92-.59-1.43-.59-.52 0-1.04.2-1.43.59L10.3 9.45l-7.72 7.72c-.78.78-.78 2.05 0 2.83L4 21.41c.39.39.9.59 1.41.59.51 0 1.02-.2 1.41-.59l7.78-7.78 2.81-2.81c.8-.78.8-2.07 0-2.86zM5.41 20L4 18.59l7.72-7.72 1.47 1.35L5.41 20z\"/>\n",
              "  </svg>\n",
              "      </button>\n",
              "      \n",
              "  <style>\n",
              "    .colab-df-container {\n",
              "      display:flex;\n",
              "      flex-wrap:wrap;\n",
              "      gap: 12px;\n",
              "    }\n",
              "\n",
              "    .colab-df-convert {\n",
              "      background-color: #E8F0FE;\n",
              "      border: none;\n",
              "      border-radius: 50%;\n",
              "      cursor: pointer;\n",
              "      display: none;\n",
              "      fill: #1967D2;\n",
              "      height: 32px;\n",
              "      padding: 0 0 0 0;\n",
              "      width: 32px;\n",
              "    }\n",
              "\n",
              "    .colab-df-convert:hover {\n",
              "      background-color: #E2EBFA;\n",
              "      box-shadow: 0px 1px 2px rgba(60, 64, 67, 0.3), 0px 1px 3px 1px rgba(60, 64, 67, 0.15);\n",
              "      fill: #174EA6;\n",
              "    }\n",
              "\n",
              "    [theme=dark] .colab-df-convert {\n",
              "      background-color: #3B4455;\n",
              "      fill: #D2E3FC;\n",
              "    }\n",
              "\n",
              "    [theme=dark] .colab-df-convert:hover {\n",
              "      background-color: #434B5C;\n",
              "      box-shadow: 0px 1px 3px 1px rgba(0, 0, 0, 0.15);\n",
              "      filter: drop-shadow(0px 1px 2px rgba(0, 0, 0, 0.3));\n",
              "      fill: #FFFFFF;\n",
              "    }\n",
              "  </style>\n",
              "\n",
              "      <script>\n",
              "        const buttonEl =\n",
              "          document.querySelector('#df-c00113ac-d6ce-44f7-ae84-90a2e9c38bbf button.colab-df-convert');\n",
              "        buttonEl.style.display =\n",
              "          google.colab.kernel.accessAllowed ? 'block' : 'none';\n",
              "\n",
              "        async function convertToInteractive(key) {\n",
              "          const element = document.querySelector('#df-c00113ac-d6ce-44f7-ae84-90a2e9c38bbf');\n",
              "          const dataTable =\n",
              "            await google.colab.kernel.invokeFunction('convertToInteractive',\n",
              "                                                     [key], {});\n",
              "          if (!dataTable) return;\n",
              "\n",
              "          const docLinkHtml = 'Like what you see? Visit the ' +\n",
              "            '<a target=\"_blank\" href=https://colab.research.google.com/notebooks/data_table.ipynb>data table notebook</a>'\n",
              "            + ' to learn more about interactive tables.';\n",
              "          element.innerHTML = '';\n",
              "          dataTable['output_type'] = 'display_data';\n",
              "          await google.colab.output.renderOutput(dataTable, element);\n",
              "          const docLink = document.createElement('div');\n",
              "          docLink.innerHTML = docLinkHtml;\n",
              "          element.appendChild(docLink);\n",
              "        }\n",
              "      </script>\n",
              "    </div>\n",
              "  </div>\n",
              "  "
            ]
          },
          "metadata": {},
          "execution_count": 366
        }
      ]
    },
    {
      "cell_type": "markdown",
      "source": [
        "### Vintage Analysis to create target variable"
      ],
      "metadata": {
        "id": "vmuvUjHBX5Ez"
      }
    },
    {
      "cell_type": "markdown",
      "source": [
        "the vintage analysis measures the performance of a portfolio in different periods of time after the loan (or credit card) was granted."
      ],
      "metadata": {
        "id": "IqoeKdbzZGD9"
      }
    },
    {
      "cell_type": "code",
      "source": [
        "# Create a pivot table with ID as index, MONTHS_BALANCE as cols and STATUS is the values\n",
        "pivot_tb = credit.pivot(index='ID', columns='MONTHS_BALANCE', values='STATUS')\n",
        "\n",
        "# Group credit data by ID \n",
        "grouped_ID = credit.groupby('ID')\n",
        "\n",
        "# Add Open_Month, End_Month and Window columns in the pivot table\n",
        "pivot_tb['Open_Month'] = grouped_ID['MONTHS_BALANCE'].min()\n",
        "pivot_tb['End_Month']  = grouped_ID['MONTHS_BALANCE'].max()\n",
        "pivot_tb['Window'] = pivot_tb['End_Month'] - pivot_tb['Open_Month'] + 1\n",
        "\n",
        "# Shape of our pivot table\n",
        "pivot_tb.shape"
      ],
      "metadata": {
        "colab": {
          "base_uri": "https://localhost:8080/"
        },
        "id": "_AJl7mSwsDYT",
        "outputId": "7a24e8d8-7be3-4ac0-d479-dfcccaa82769"
      },
      "execution_count": null,
      "outputs": [
        {
          "output_type": "execute_result",
          "data": {
            "text/plain": [
              "(45985, 64)"
            ]
          },
          "metadata": {},
          "execution_count": 367
        }
      ]
    },
    {
      "cell_type": "code",
      "source": [
        "# Counting number of paid offs\n",
        "pivot_tb['paid_off'] = pivot_tb[pivot_tb.iloc[:, 0: 61] == 'C'].count(axis=1)\n",
        "\n",
        "# Counting number of no loans\n",
        "pivot_tb['no_loan'] = pivot_tb[pivot_tb.iloc[:, 0: 61] == 'X'].count(axis=1)\n",
        "\n",
        "# Counting number past dues\n",
        "pivot_tb['pastdue_1-29']  = pivot_tb[pivot_tb.iloc[:, 0: 61] == '0'].count(axis=1)\n",
        "pivot_tb['pastdue_30-59'] = pivot_tb[pivot_tb.iloc[:, 0: 61] == '1'].count(axis=1)\n",
        "pivot_tb['pastdue_60-89'] = pivot_tb[pivot_tb.iloc[:, 0: 61] == '2'].count(axis=1)\n",
        "pivot_tb['pastdue_90-119']   = pivot_tb[pivot_tb.iloc[:, 0: 61] == '3'].count(axis=1)\n",
        "pivot_tb['pastdue_120-149']  = pivot_tb[pivot_tb.iloc[:, 0: 61] == '4'].count(axis=1)\n",
        "pivot_tb['pastdue_over_150'] = pivot_tb[pivot_tb.iloc[:, 0: 61] == '5'].count(axis=1)"
      ],
      "metadata": {
        "id": "i00CUZ4CsLfG"
      },
      "execution_count": null,
      "outputs": []
    },
    {
      "cell_type": "code",
      "source": [
        "# Setting ID column again to merge with Application data\n",
        "pivot_tb['ID'] = pivot_tb.index"
      ],
      "metadata": {
        "id": "Lgy2HTlPscjA"
      },
      "execution_count": null,
      "outputs": []
    },
    {
      "cell_type": "code",
      "source": [
        "# Display the first five rows of the pivot table\n",
        "pivot_tb.head()"
      ],
      "metadata": {
        "colab": {
          "base_uri": "https://localhost:8080/",
          "height": 348
        },
        "id": "edBPsBW3sgca",
        "outputId": "f3bac45a-f8aa-47d1-d367-b722ac406747"
      },
      "execution_count": null,
      "outputs": [
        {
          "output_type": "execute_result",
          "data": {
            "text/plain": [
              "MONTHS_BALANCE  -60  -59  -58  -57  -56  -55  -54  -53  -52  ... paid_off no_loan  \\\n",
              "ID                                                           ...                    \n",
              "5001711         NaN  NaN  NaN  NaN  NaN  NaN  NaN  NaN  NaN  ...        0       1   \n",
              "5001712         NaN  NaN  NaN  NaN  NaN  NaN  NaN  NaN  NaN  ...        9       0   \n",
              "5001713         NaN  NaN  NaN  NaN  NaN  NaN  NaN  NaN  NaN  ...        0      22   \n",
              "5001714         NaN  NaN  NaN  NaN  NaN  NaN  NaN  NaN  NaN  ...        0      15   \n",
              "5001715         NaN    X    X    X    X    X    X    X    X  ...        0      60   \n",
              "\n",
              "MONTHS_BALANCE pastdue_1-29 pastdue_30-59 pastdue_60-89 pastdue_90-119  \\\n",
              "ID                                                                       \n",
              "5001711                   3             0             0              0   \n",
              "5001712                  10             0             0              0   \n",
              "5001713                   0             0             0              0   \n",
              "5001714                   0             0             0              0   \n",
              "5001715                   0             0             0              0   \n",
              "\n",
              "MONTHS_BALANCE pastdue_120-149 pastdue_over_150       ID  \n",
              "ID                                                        \n",
              "5001711                      0                0  5001711  \n",
              "5001712                      0                0  5001712  \n",
              "5001713                      0                0  5001713  \n",
              "5001714                      0                0  5001714  \n",
              "5001715                      0                0  5001715  \n",
              "\n",
              "[5 rows x 73 columns]"
            ],
            "text/html": [
              "\n",
              "  <div id=\"df-811a13cf-9f21-4a35-a4b6-96fd8231aa56\">\n",
              "    <div class=\"colab-df-container\">\n",
              "      <div>\n",
              "<style scoped>\n",
              "    .dataframe tbody tr th:only-of-type {\n",
              "        vertical-align: middle;\n",
              "    }\n",
              "\n",
              "    .dataframe tbody tr th {\n",
              "        vertical-align: top;\n",
              "    }\n",
              "\n",
              "    .dataframe thead th {\n",
              "        text-align: right;\n",
              "    }\n",
              "</style>\n",
              "<table border=\"1\" class=\"dataframe\">\n",
              "  <thead>\n",
              "    <tr style=\"text-align: right;\">\n",
              "      <th>MONTHS_BALANCE</th>\n",
              "      <th>-60</th>\n",
              "      <th>-59</th>\n",
              "      <th>-58</th>\n",
              "      <th>-57</th>\n",
              "      <th>-56</th>\n",
              "      <th>-55</th>\n",
              "      <th>-54</th>\n",
              "      <th>-53</th>\n",
              "      <th>-52</th>\n",
              "      <th>...</th>\n",
              "      <th>paid_off</th>\n",
              "      <th>no_loan</th>\n",
              "      <th>pastdue_1-29</th>\n",
              "      <th>pastdue_30-59</th>\n",
              "      <th>pastdue_60-89</th>\n",
              "      <th>pastdue_90-119</th>\n",
              "      <th>pastdue_120-149</th>\n",
              "      <th>pastdue_over_150</th>\n",
              "      <th>ID</th>\n",
              "    </tr>\n",
              "    <tr>\n",
              "      <th>ID</th>\n",
              "      <th></th>\n",
              "      <th></th>\n",
              "      <th></th>\n",
              "      <th></th>\n",
              "      <th></th>\n",
              "      <th></th>\n",
              "      <th></th>\n",
              "      <th></th>\n",
              "      <th></th>\n",
              "      <th></th>\n",
              "      <th></th>\n",
              "      <th></th>\n",
              "      <th></th>\n",
              "      <th></th>\n",
              "      <th></th>\n",
              "      <th></th>\n",
              "      <th></th>\n",
              "      <th></th>\n",
              "      <th></th>\n",
              "    </tr>\n",
              "  </thead>\n",
              "  <tbody>\n",
              "    <tr>\n",
              "      <th>5001711</th>\n",
              "      <td>NaN</td>\n",
              "      <td>NaN</td>\n",
              "      <td>NaN</td>\n",
              "      <td>NaN</td>\n",
              "      <td>NaN</td>\n",
              "      <td>NaN</td>\n",
              "      <td>NaN</td>\n",
              "      <td>NaN</td>\n",
              "      <td>NaN</td>\n",
              "      <td>...</td>\n",
              "      <td>0</td>\n",
              "      <td>1</td>\n",
              "      <td>3</td>\n",
              "      <td>0</td>\n",
              "      <td>0</td>\n",
              "      <td>0</td>\n",
              "      <td>0</td>\n",
              "      <td>0</td>\n",
              "      <td>5001711</td>\n",
              "    </tr>\n",
              "    <tr>\n",
              "      <th>5001712</th>\n",
              "      <td>NaN</td>\n",
              "      <td>NaN</td>\n",
              "      <td>NaN</td>\n",
              "      <td>NaN</td>\n",
              "      <td>NaN</td>\n",
              "      <td>NaN</td>\n",
              "      <td>NaN</td>\n",
              "      <td>NaN</td>\n",
              "      <td>NaN</td>\n",
              "      <td>...</td>\n",
              "      <td>9</td>\n",
              "      <td>0</td>\n",
              "      <td>10</td>\n",
              "      <td>0</td>\n",
              "      <td>0</td>\n",
              "      <td>0</td>\n",
              "      <td>0</td>\n",
              "      <td>0</td>\n",
              "      <td>5001712</td>\n",
              "    </tr>\n",
              "    <tr>\n",
              "      <th>5001713</th>\n",
              "      <td>NaN</td>\n",
              "      <td>NaN</td>\n",
              "      <td>NaN</td>\n",
              "      <td>NaN</td>\n",
              "      <td>NaN</td>\n",
              "      <td>NaN</td>\n",
              "      <td>NaN</td>\n",
              "      <td>NaN</td>\n",
              "      <td>NaN</td>\n",
              "      <td>...</td>\n",
              "      <td>0</td>\n",
              "      <td>22</td>\n",
              "      <td>0</td>\n",
              "      <td>0</td>\n",
              "      <td>0</td>\n",
              "      <td>0</td>\n",
              "      <td>0</td>\n",
              "      <td>0</td>\n",
              "      <td>5001713</td>\n",
              "    </tr>\n",
              "    <tr>\n",
              "      <th>5001714</th>\n",
              "      <td>NaN</td>\n",
              "      <td>NaN</td>\n",
              "      <td>NaN</td>\n",
              "      <td>NaN</td>\n",
              "      <td>NaN</td>\n",
              "      <td>NaN</td>\n",
              "      <td>NaN</td>\n",
              "      <td>NaN</td>\n",
              "      <td>NaN</td>\n",
              "      <td>...</td>\n",
              "      <td>0</td>\n",
              "      <td>15</td>\n",
              "      <td>0</td>\n",
              "      <td>0</td>\n",
              "      <td>0</td>\n",
              "      <td>0</td>\n",
              "      <td>0</td>\n",
              "      <td>0</td>\n",
              "      <td>5001714</td>\n",
              "    </tr>\n",
              "    <tr>\n",
              "      <th>5001715</th>\n",
              "      <td>NaN</td>\n",
              "      <td>X</td>\n",
              "      <td>X</td>\n",
              "      <td>X</td>\n",
              "      <td>X</td>\n",
              "      <td>X</td>\n",
              "      <td>X</td>\n",
              "      <td>X</td>\n",
              "      <td>X</td>\n",
              "      <td>...</td>\n",
              "      <td>0</td>\n",
              "      <td>60</td>\n",
              "      <td>0</td>\n",
              "      <td>0</td>\n",
              "      <td>0</td>\n",
              "      <td>0</td>\n",
              "      <td>0</td>\n",
              "      <td>0</td>\n",
              "      <td>5001715</td>\n",
              "    </tr>\n",
              "  </tbody>\n",
              "</table>\n",
              "<p>5 rows × 73 columns</p>\n",
              "</div>\n",
              "      <button class=\"colab-df-convert\" onclick=\"convertToInteractive('df-811a13cf-9f21-4a35-a4b6-96fd8231aa56')\"\n",
              "              title=\"Convert this dataframe to an interactive table.\"\n",
              "              style=\"display:none;\">\n",
              "        \n",
              "  <svg xmlns=\"http://www.w3.org/2000/svg\" height=\"24px\"viewBox=\"0 0 24 24\"\n",
              "       width=\"24px\">\n",
              "    <path d=\"M0 0h24v24H0V0z\" fill=\"none\"/>\n",
              "    <path d=\"M18.56 5.44l.94 2.06.94-2.06 2.06-.94-2.06-.94-.94-2.06-.94 2.06-2.06.94zm-11 1L8.5 8.5l.94-2.06 2.06-.94-2.06-.94L8.5 2.5l-.94 2.06-2.06.94zm10 10l.94 2.06.94-2.06 2.06-.94-2.06-.94-.94-2.06-.94 2.06-2.06.94z\"/><path d=\"M17.41 7.96l-1.37-1.37c-.4-.4-.92-.59-1.43-.59-.52 0-1.04.2-1.43.59L10.3 9.45l-7.72 7.72c-.78.78-.78 2.05 0 2.83L4 21.41c.39.39.9.59 1.41.59.51 0 1.02-.2 1.41-.59l7.78-7.78 2.81-2.81c.8-.78.8-2.07 0-2.86zM5.41 20L4 18.59l7.72-7.72 1.47 1.35L5.41 20z\"/>\n",
              "  </svg>\n",
              "      </button>\n",
              "      \n",
              "  <style>\n",
              "    .colab-df-container {\n",
              "      display:flex;\n",
              "      flex-wrap:wrap;\n",
              "      gap: 12px;\n",
              "    }\n",
              "\n",
              "    .colab-df-convert {\n",
              "      background-color: #E8F0FE;\n",
              "      border: none;\n",
              "      border-radius: 50%;\n",
              "      cursor: pointer;\n",
              "      display: none;\n",
              "      fill: #1967D2;\n",
              "      height: 32px;\n",
              "      padding: 0 0 0 0;\n",
              "      width: 32px;\n",
              "    }\n",
              "\n",
              "    .colab-df-convert:hover {\n",
              "      background-color: #E2EBFA;\n",
              "      box-shadow: 0px 1px 2px rgba(60, 64, 67, 0.3), 0px 1px 3px 1px rgba(60, 64, 67, 0.15);\n",
              "      fill: #174EA6;\n",
              "    }\n",
              "\n",
              "    [theme=dark] .colab-df-convert {\n",
              "      background-color: #3B4455;\n",
              "      fill: #D2E3FC;\n",
              "    }\n",
              "\n",
              "    [theme=dark] .colab-df-convert:hover {\n",
              "      background-color: #434B5C;\n",
              "      box-shadow: 0px 1px 3px 1px rgba(0, 0, 0, 0.15);\n",
              "      filter: drop-shadow(0px 1px 2px rgba(0, 0, 0, 0.3));\n",
              "      fill: #FFFFFF;\n",
              "    }\n",
              "  </style>\n",
              "\n",
              "      <script>\n",
              "        const buttonEl =\n",
              "          document.querySelector('#df-811a13cf-9f21-4a35-a4b6-96fd8231aa56 button.colab-df-convert');\n",
              "        buttonEl.style.display =\n",
              "          google.colab.kernel.accessAllowed ? 'block' : 'none';\n",
              "\n",
              "        async function convertToInteractive(key) {\n",
              "          const element = document.querySelector('#df-811a13cf-9f21-4a35-a4b6-96fd8231aa56');\n",
              "          const dataTable =\n",
              "            await google.colab.kernel.invokeFunction('convertToInteractive',\n",
              "                                                     [key], {});\n",
              "          if (!dataTable) return;\n",
              "\n",
              "          const docLinkHtml = 'Like what you see? Visit the ' +\n",
              "            '<a target=\"_blank\" href=https://colab.research.google.com/notebooks/data_table.ipynb>data table notebook</a>'\n",
              "            + ' to learn more about interactive tables.';\n",
              "          element.innerHTML = '';\n",
              "          dataTable['output_type'] = 'display_data';\n",
              "          await google.colab.output.renderOutput(dataTable, element);\n",
              "          const docLink = document.createElement('div');\n",
              "          docLink.innerHTML = docLinkHtml;\n",
              "          element.appendChild(docLink);\n",
              "        }\n",
              "      </script>\n",
              "    </div>\n",
              "  </div>\n",
              "  "
            ]
          },
          "metadata": {},
          "execution_count": 370
        }
      ]
    },
    {
      "cell_type": "code",
      "source": [
        "# Create an empty dataframe called target\n",
        "target = pd.DataFrame()\n",
        "\n",
        "# Add columns ID, paid_off, no_loan and #_of_pastdues which is the sum of all the pastdues\n",
        "target['ID'] = pivot_tb.index\n",
        "target['paid_off'] = pivot_tb['paid_off'].values\n",
        "target['#_of_pastdues'] =   pivot_tb['pastdue_1-29'].values \\\n",
        "                          + pivot_tb['pastdue_30-59'].values \\\n",
        "                          + pivot_tb['pastdue_60-89'].values \\\n",
        "                          + pivot_tb['pastdue_90-119'].values \\\n",
        "                          + pivot_tb['pastdue_120-149'].values \\\n",
        "                          + pivot_tb['pastdue_over_150'].values                              \n",
        "target['no_loan'] = pivot_tb['no_loan'].values\n",
        "\n",
        "# Display the head of the target table\n",
        "target.head()"
      ],
      "metadata": {
        "colab": {
          "base_uri": "https://localhost:8080/",
          "height": 206
        },
        "id": "2iR3JiO9si73",
        "outputId": "6304d2e3-97ec-489f-daa3-c6546d28e4c6"
      },
      "execution_count": null,
      "outputs": [
        {
          "output_type": "execute_result",
          "data": {
            "text/plain": [
              "        ID  paid_off  #_of_pastdues  no_loan\n",
              "0  5001711         0              3        1\n",
              "1  5001712         9             10        0\n",
              "2  5001713         0              0       22\n",
              "3  5001714         0              0       15\n",
              "4  5001715         0              0       60"
            ],
            "text/html": [
              "\n",
              "  <div id=\"df-46855460-30f4-4670-953f-57478eab28d6\">\n",
              "    <div class=\"colab-df-container\">\n",
              "      <div>\n",
              "<style scoped>\n",
              "    .dataframe tbody tr th:only-of-type {\n",
              "        vertical-align: middle;\n",
              "    }\n",
              "\n",
              "    .dataframe tbody tr th {\n",
              "        vertical-align: top;\n",
              "    }\n",
              "\n",
              "    .dataframe thead th {\n",
              "        text-align: right;\n",
              "    }\n",
              "</style>\n",
              "<table border=\"1\" class=\"dataframe\">\n",
              "  <thead>\n",
              "    <tr style=\"text-align: right;\">\n",
              "      <th></th>\n",
              "      <th>ID</th>\n",
              "      <th>paid_off</th>\n",
              "      <th>#_of_pastdues</th>\n",
              "      <th>no_loan</th>\n",
              "    </tr>\n",
              "  </thead>\n",
              "  <tbody>\n",
              "    <tr>\n",
              "      <th>0</th>\n",
              "      <td>5001711</td>\n",
              "      <td>0</td>\n",
              "      <td>3</td>\n",
              "      <td>1</td>\n",
              "    </tr>\n",
              "    <tr>\n",
              "      <th>1</th>\n",
              "      <td>5001712</td>\n",
              "      <td>9</td>\n",
              "      <td>10</td>\n",
              "      <td>0</td>\n",
              "    </tr>\n",
              "    <tr>\n",
              "      <th>2</th>\n",
              "      <td>5001713</td>\n",
              "      <td>0</td>\n",
              "      <td>0</td>\n",
              "      <td>22</td>\n",
              "    </tr>\n",
              "    <tr>\n",
              "      <th>3</th>\n",
              "      <td>5001714</td>\n",
              "      <td>0</td>\n",
              "      <td>0</td>\n",
              "      <td>15</td>\n",
              "    </tr>\n",
              "    <tr>\n",
              "      <th>4</th>\n",
              "      <td>5001715</td>\n",
              "      <td>0</td>\n",
              "      <td>0</td>\n",
              "      <td>60</td>\n",
              "    </tr>\n",
              "  </tbody>\n",
              "</table>\n",
              "</div>\n",
              "      <button class=\"colab-df-convert\" onclick=\"convertToInteractive('df-46855460-30f4-4670-953f-57478eab28d6')\"\n",
              "              title=\"Convert this dataframe to an interactive table.\"\n",
              "              style=\"display:none;\">\n",
              "        \n",
              "  <svg xmlns=\"http://www.w3.org/2000/svg\" height=\"24px\"viewBox=\"0 0 24 24\"\n",
              "       width=\"24px\">\n",
              "    <path d=\"M0 0h24v24H0V0z\" fill=\"none\"/>\n",
              "    <path d=\"M18.56 5.44l.94 2.06.94-2.06 2.06-.94-2.06-.94-.94-2.06-.94 2.06-2.06.94zm-11 1L8.5 8.5l.94-2.06 2.06-.94-2.06-.94L8.5 2.5l-.94 2.06-2.06.94zm10 10l.94 2.06.94-2.06 2.06-.94-2.06-.94-.94-2.06-.94 2.06-2.06.94z\"/><path d=\"M17.41 7.96l-1.37-1.37c-.4-.4-.92-.59-1.43-.59-.52 0-1.04.2-1.43.59L10.3 9.45l-7.72 7.72c-.78.78-.78 2.05 0 2.83L4 21.41c.39.39.9.59 1.41.59.51 0 1.02-.2 1.41-.59l7.78-7.78 2.81-2.81c.8-.78.8-2.07 0-2.86zM5.41 20L4 18.59l7.72-7.72 1.47 1.35L5.41 20z\"/>\n",
              "  </svg>\n",
              "      </button>\n",
              "      \n",
              "  <style>\n",
              "    .colab-df-container {\n",
              "      display:flex;\n",
              "      flex-wrap:wrap;\n",
              "      gap: 12px;\n",
              "    }\n",
              "\n",
              "    .colab-df-convert {\n",
              "      background-color: #E8F0FE;\n",
              "      border: none;\n",
              "      border-radius: 50%;\n",
              "      cursor: pointer;\n",
              "      display: none;\n",
              "      fill: #1967D2;\n",
              "      height: 32px;\n",
              "      padding: 0 0 0 0;\n",
              "      width: 32px;\n",
              "    }\n",
              "\n",
              "    .colab-df-convert:hover {\n",
              "      background-color: #E2EBFA;\n",
              "      box-shadow: 0px 1px 2px rgba(60, 64, 67, 0.3), 0px 1px 3px 1px rgba(60, 64, 67, 0.15);\n",
              "      fill: #174EA6;\n",
              "    }\n",
              "\n",
              "    [theme=dark] .colab-df-convert {\n",
              "      background-color: #3B4455;\n",
              "      fill: #D2E3FC;\n",
              "    }\n",
              "\n",
              "    [theme=dark] .colab-df-convert:hover {\n",
              "      background-color: #434B5C;\n",
              "      box-shadow: 0px 1px 3px 1px rgba(0, 0, 0, 0.15);\n",
              "      filter: drop-shadow(0px 1px 2px rgba(0, 0, 0, 0.3));\n",
              "      fill: #FFFFFF;\n",
              "    }\n",
              "  </style>\n",
              "\n",
              "      <script>\n",
              "        const buttonEl =\n",
              "          document.querySelector('#df-46855460-30f4-4670-953f-57478eab28d6 button.colab-df-convert');\n",
              "        buttonEl.style.display =\n",
              "          google.colab.kernel.accessAllowed ? 'block' : 'none';\n",
              "\n",
              "        async function convertToInteractive(key) {\n",
              "          const element = document.querySelector('#df-46855460-30f4-4670-953f-57478eab28d6');\n",
              "          const dataTable =\n",
              "            await google.colab.kernel.invokeFunction('convertToInteractive',\n",
              "                                                     [key], {});\n",
              "          if (!dataTable) return;\n",
              "\n",
              "          const docLinkHtml = 'Like what you see? Visit the ' +\n",
              "            '<a target=\"_blank\" href=https://colab.research.google.com/notebooks/data_table.ipynb>data table notebook</a>'\n",
              "            + ' to learn more about interactive tables.';\n",
              "          element.innerHTML = '';\n",
              "          dataTable['output_type'] = 'display_data';\n",
              "          await google.colab.output.renderOutput(dataTable, element);\n",
              "          const docLink = document.createElement('div');\n",
              "          docLink.innerHTML = docLinkHtml;\n",
              "          element.appendChild(docLink);\n",
              "        }\n",
              "      </script>\n",
              "    </div>\n",
              "  </div>\n",
              "  "
            ]
          },
          "metadata": {},
          "execution_count": 371
        }
      ]
    },
    {
      "cell_type": "code",
      "source": [
        "# Merge customer_apps table with target table\n",
        "customer_apps1 = customer_apps.merge(target, how='inner', on='ID')\n",
        "\n",
        "# Merge customer_apps1 table with record_count table\n",
        "customer_apps2 = pd.merge(customer_apps1, record_count, how='inner', on='ID')\n",
        "\n",
        "# Create target column with values equal to dep_value values\n",
        "customer_apps2['target'] = customer_apps2['dep_value']\n",
        "\n",
        "# Replace the values of 'Yes' with 1 and 'No' with 0\n",
        "customer_apps2.loc[customer_apps2['target'] == 'Yes', 'target'] = 1\n",
        "customer_apps2.loc[customer_apps2['target'] == 'No',  'target'] = 0\n",
        "\n",
        "# Drop dep_value column from the customer_apps2 table\n",
        "customer_apps2.drop(columns=[\"dep_value\"], inplace=True)"
      ],
      "metadata": {
        "id": "Dnx5kJACs_Jf"
      },
      "execution_count": null,
      "outputs": []
    },
    {
      "cell_type": "code",
      "source": [
        "# Drop unwanted feature\n",
        "customer_apps2.drop('occupation', axis=1, inplace=True)"
      ],
      "metadata": {
        "id": "lu3UoycPvQO-"
      },
      "execution_count": null,
      "outputs": []
    },
    {
      "cell_type": "code",
      "source": [
        "# Display the head of the customer_apps2 table\n",
        "customer_apps2.head()"
      ],
      "metadata": {
        "colab": {
          "base_uri": "https://localhost:8080/",
          "height": 317
        },
        "id": "NyNU6KCqtRXq",
        "outputId": "03f79100-cd54-4b8c-91e6-36be7786bbae"
      },
      "execution_count": null,
      "outputs": [
        {
          "output_type": "execute_result",
          "data": {
            "text/plain": [
              "        ID  gender  own_car  own_realty     income  own_work_phone  own_phone  \\\n",
              "0  5008804       1        1           1 427,500.00               1          0   \n",
              "1  5008806       1        1           1 112,500.00               0          0   \n",
              "2  5008808       0        0           1 270,000.00               0          1   \n",
              "3  5008812       0        0           1 283,500.00               0          0   \n",
              "4  5008815       1        1           1 270,000.00               1          1   \n",
              "\n",
              "   own_email  family_size  ...  education_type_Secondary  family_status_Married  \\\n",
              "0          0         2.00  ...                         0                      1   \n",
              "1          0         2.00  ...                         1                      1   \n",
              "2          1         1.00  ...                         1                      0   \n",
              "3          0         1.00  ...                         0                      0   \n",
              "4          1         2.00  ...                         0                      1   \n",
              "\n",
              "   family_status_Single  housing_type_House / Apartment  housing_type_With parents  \\\n",
              "0                     0                               1                          0   \n",
              "1                     0                               1                          0   \n",
              "2                     1                               1                          0   \n",
              "3                     1                               1                          0   \n",
              "4                     0                               1                          0   \n",
              "\n",
              "   paid_off  #_of_pastdues  no_loan  target  \n",
              "0        13              2        1       0  \n",
              "1         7              7       16       0  \n",
              "2         0              2        3       0  \n",
              "3         0             14        3       0  \n",
              "4         0              6        0       0  \n",
              "\n",
              "[5 rows x 29 columns]"
            ],
            "text/html": [
              "\n",
              "  <div id=\"df-3e179ab5-8938-44db-be5a-c502bd925bd8\">\n",
              "    <div class=\"colab-df-container\">\n",
              "      <div>\n",
              "<style scoped>\n",
              "    .dataframe tbody tr th:only-of-type {\n",
              "        vertical-align: middle;\n",
              "    }\n",
              "\n",
              "    .dataframe tbody tr th {\n",
              "        vertical-align: top;\n",
              "    }\n",
              "\n",
              "    .dataframe thead th {\n",
              "        text-align: right;\n",
              "    }\n",
              "</style>\n",
              "<table border=\"1\" class=\"dataframe\">\n",
              "  <thead>\n",
              "    <tr style=\"text-align: right;\">\n",
              "      <th></th>\n",
              "      <th>ID</th>\n",
              "      <th>gender</th>\n",
              "      <th>own_car</th>\n",
              "      <th>own_realty</th>\n",
              "      <th>income</th>\n",
              "      <th>own_work_phone</th>\n",
              "      <th>own_phone</th>\n",
              "      <th>own_email</th>\n",
              "      <th>family_size</th>\n",
              "      <th>...</th>\n",
              "      <th>education_type_Secondary</th>\n",
              "      <th>family_status_Married</th>\n",
              "      <th>family_status_Single</th>\n",
              "      <th>housing_type_House / Apartment</th>\n",
              "      <th>housing_type_With parents</th>\n",
              "      <th>paid_off</th>\n",
              "      <th>#_of_pastdues</th>\n",
              "      <th>no_loan</th>\n",
              "      <th>target</th>\n",
              "    </tr>\n",
              "  </thead>\n",
              "  <tbody>\n",
              "    <tr>\n",
              "      <th>0</th>\n",
              "      <td>5008804</td>\n",
              "      <td>1</td>\n",
              "      <td>1</td>\n",
              "      <td>1</td>\n",
              "      <td>427,500.00</td>\n",
              "      <td>1</td>\n",
              "      <td>0</td>\n",
              "      <td>0</td>\n",
              "      <td>2.00</td>\n",
              "      <td>...</td>\n",
              "      <td>0</td>\n",
              "      <td>1</td>\n",
              "      <td>0</td>\n",
              "      <td>1</td>\n",
              "      <td>0</td>\n",
              "      <td>13</td>\n",
              "      <td>2</td>\n",
              "      <td>1</td>\n",
              "      <td>0</td>\n",
              "    </tr>\n",
              "    <tr>\n",
              "      <th>1</th>\n",
              "      <td>5008806</td>\n",
              "      <td>1</td>\n",
              "      <td>1</td>\n",
              "      <td>1</td>\n",
              "      <td>112,500.00</td>\n",
              "      <td>0</td>\n",
              "      <td>0</td>\n",
              "      <td>0</td>\n",
              "      <td>2.00</td>\n",
              "      <td>...</td>\n",
              "      <td>1</td>\n",
              "      <td>1</td>\n",
              "      <td>0</td>\n",
              "      <td>1</td>\n",
              "      <td>0</td>\n",
              "      <td>7</td>\n",
              "      <td>7</td>\n",
              "      <td>16</td>\n",
              "      <td>0</td>\n",
              "    </tr>\n",
              "    <tr>\n",
              "      <th>2</th>\n",
              "      <td>5008808</td>\n",
              "      <td>0</td>\n",
              "      <td>0</td>\n",
              "      <td>1</td>\n",
              "      <td>270,000.00</td>\n",
              "      <td>0</td>\n",
              "      <td>1</td>\n",
              "      <td>1</td>\n",
              "      <td>1.00</td>\n",
              "      <td>...</td>\n",
              "      <td>1</td>\n",
              "      <td>0</td>\n",
              "      <td>1</td>\n",
              "      <td>1</td>\n",
              "      <td>0</td>\n",
              "      <td>0</td>\n",
              "      <td>2</td>\n",
              "      <td>3</td>\n",
              "      <td>0</td>\n",
              "    </tr>\n",
              "    <tr>\n",
              "      <th>3</th>\n",
              "      <td>5008812</td>\n",
              "      <td>0</td>\n",
              "      <td>0</td>\n",
              "      <td>1</td>\n",
              "      <td>283,500.00</td>\n",
              "      <td>0</td>\n",
              "      <td>0</td>\n",
              "      <td>0</td>\n",
              "      <td>1.00</td>\n",
              "      <td>...</td>\n",
              "      <td>0</td>\n",
              "      <td>0</td>\n",
              "      <td>1</td>\n",
              "      <td>1</td>\n",
              "      <td>0</td>\n",
              "      <td>0</td>\n",
              "      <td>14</td>\n",
              "      <td>3</td>\n",
              "      <td>0</td>\n",
              "    </tr>\n",
              "    <tr>\n",
              "      <th>4</th>\n",
              "      <td>5008815</td>\n",
              "      <td>1</td>\n",
              "      <td>1</td>\n",
              "      <td>1</td>\n",
              "      <td>270,000.00</td>\n",
              "      <td>1</td>\n",
              "      <td>1</td>\n",
              "      <td>1</td>\n",
              "      <td>2.00</td>\n",
              "      <td>...</td>\n",
              "      <td>0</td>\n",
              "      <td>1</td>\n",
              "      <td>0</td>\n",
              "      <td>1</td>\n",
              "      <td>0</td>\n",
              "      <td>0</td>\n",
              "      <td>6</td>\n",
              "      <td>0</td>\n",
              "      <td>0</td>\n",
              "    </tr>\n",
              "  </tbody>\n",
              "</table>\n",
              "<p>5 rows × 29 columns</p>\n",
              "</div>\n",
              "      <button class=\"colab-df-convert\" onclick=\"convertToInteractive('df-3e179ab5-8938-44db-be5a-c502bd925bd8')\"\n",
              "              title=\"Convert this dataframe to an interactive table.\"\n",
              "              style=\"display:none;\">\n",
              "        \n",
              "  <svg xmlns=\"http://www.w3.org/2000/svg\" height=\"24px\"viewBox=\"0 0 24 24\"\n",
              "       width=\"24px\">\n",
              "    <path d=\"M0 0h24v24H0V0z\" fill=\"none\"/>\n",
              "    <path d=\"M18.56 5.44l.94 2.06.94-2.06 2.06-.94-2.06-.94-.94-2.06-.94 2.06-2.06.94zm-11 1L8.5 8.5l.94-2.06 2.06-.94-2.06-.94L8.5 2.5l-.94 2.06-2.06.94zm10 10l.94 2.06.94-2.06 2.06-.94-2.06-.94-.94-2.06-.94 2.06-2.06.94z\"/><path d=\"M17.41 7.96l-1.37-1.37c-.4-.4-.92-.59-1.43-.59-.52 0-1.04.2-1.43.59L10.3 9.45l-7.72 7.72c-.78.78-.78 2.05 0 2.83L4 21.41c.39.39.9.59 1.41.59.51 0 1.02-.2 1.41-.59l7.78-7.78 2.81-2.81c.8-.78.8-2.07 0-2.86zM5.41 20L4 18.59l7.72-7.72 1.47 1.35L5.41 20z\"/>\n",
              "  </svg>\n",
              "      </button>\n",
              "      \n",
              "  <style>\n",
              "    .colab-df-container {\n",
              "      display:flex;\n",
              "      flex-wrap:wrap;\n",
              "      gap: 12px;\n",
              "    }\n",
              "\n",
              "    .colab-df-convert {\n",
              "      background-color: #E8F0FE;\n",
              "      border: none;\n",
              "      border-radius: 50%;\n",
              "      cursor: pointer;\n",
              "      display: none;\n",
              "      fill: #1967D2;\n",
              "      height: 32px;\n",
              "      padding: 0 0 0 0;\n",
              "      width: 32px;\n",
              "    }\n",
              "\n",
              "    .colab-df-convert:hover {\n",
              "      background-color: #E2EBFA;\n",
              "      box-shadow: 0px 1px 2px rgba(60, 64, 67, 0.3), 0px 1px 3px 1px rgba(60, 64, 67, 0.15);\n",
              "      fill: #174EA6;\n",
              "    }\n",
              "\n",
              "    [theme=dark] .colab-df-convert {\n",
              "      background-color: #3B4455;\n",
              "      fill: #D2E3FC;\n",
              "    }\n",
              "\n",
              "    [theme=dark] .colab-df-convert:hover {\n",
              "      background-color: #434B5C;\n",
              "      box-shadow: 0px 1px 3px 1px rgba(0, 0, 0, 0.15);\n",
              "      filter: drop-shadow(0px 1px 2px rgba(0, 0, 0, 0.3));\n",
              "      fill: #FFFFFF;\n",
              "    }\n",
              "  </style>\n",
              "\n",
              "      <script>\n",
              "        const buttonEl =\n",
              "          document.querySelector('#df-3e179ab5-8938-44db-be5a-c502bd925bd8 button.colab-df-convert');\n",
              "        buttonEl.style.display =\n",
              "          google.colab.kernel.accessAllowed ? 'block' : 'none';\n",
              "\n",
              "        async function convertToInteractive(key) {\n",
              "          const element = document.querySelector('#df-3e179ab5-8938-44db-be5a-c502bd925bd8');\n",
              "          const dataTable =\n",
              "            await google.colab.kernel.invokeFunction('convertToInteractive',\n",
              "                                                     [key], {});\n",
              "          if (!dataTable) return;\n",
              "\n",
              "          const docLinkHtml = 'Like what you see? Visit the ' +\n",
              "            '<a target=\"_blank\" href=https://colab.research.google.com/notebooks/data_table.ipynb>data table notebook</a>'\n",
              "            + ' to learn more about interactive tables.';\n",
              "          element.innerHTML = '';\n",
              "          dataTable['output_type'] = 'display_data';\n",
              "          await google.colab.output.renderOutput(dataTable, element);\n",
              "          const docLink = document.createElement('div');\n",
              "          docLink.innerHTML = docLinkHtml;\n",
              "          element.appendChild(docLink);\n",
              "        }\n",
              "      </script>\n",
              "    </div>\n",
              "  </div>\n",
              "  "
            ]
          },
          "metadata": {},
          "execution_count": 399
        }
      ]
    },
    {
      "cell_type": "markdown",
      "source": [
        "## Prepare the data"
      ],
      "metadata": {
        "id": "zgIXy8K9yq_s"
      }
    },
    {
      "cell_type": "code",
      "source": [
        "# Assign the features and target\n",
        "y = customer_apps2['target']\n",
        "X = customer_apps2[customer_apps2.drop('target', axis = 1).columns]"
      ],
      "metadata": {
        "id": "WWF7Prkj6KxT"
      },
      "execution_count": null,
      "outputs": []
    },
    {
      "cell_type": "markdown",
      "source": [
        "### Feature Scaling"
      ],
      "metadata": {
        "id": "GroUlp_D9el7"
      }
    },
    {
      "cell_type": "markdown",
      "source": [
        "**Scaling** or **Feature Scaling** is the process of changing the scale of certain features to a common one. This is typically achieved through normalization and standardization (scaling techniques)."
      ],
      "metadata": {
        "id": "A3McuBe258h2"
      }
    },
    {
      "cell_type": "code",
      "source": [
        "#StandardScaler\n",
        "X_ss = pd.DataFrame(StandardScaler().fit_transform(X), columns=X.columns)"
      ],
      "metadata": {
        "id": "nxtp7hyn5-lQ"
      },
      "execution_count": null,
      "outputs": []
    },
    {
      "cell_type": "markdown",
      "source": [
        "We scaled the data before splitting them into test and train because we want the model to receive values in the same range for both training and testing."
      ],
      "metadata": {
        "id": "jk2WrXSL6PNB"
      }
    },
    {
      "cell_type": "markdown",
      "source": [
        "### Splitting the data"
      ],
      "metadata": {
        "id": "-D8h3KYWzIWi"
      }
    },
    {
      "cell_type": "code",
      "source": [
        "# Split the dataset into 80% train, 20% test\n",
        "X_train, X_test, y_train, y_test = train_test_split(X_ss,y,\n",
        "                                                   test_size=0.2,\n",
        "                                                   random_state=42,\n",
        "                                                   shuffle=True,\n",
        "                                                   stratify=y)"
      ],
      "metadata": {
        "id": "X_WAXdIgt9_A"
      },
      "execution_count": null,
      "outputs": []
    },
    {
      "cell_type": "code",
      "source": [
        "print(y_train.value_counts())\n",
        "print(y_test.value_counts())"
      ],
      "metadata": {
        "colab": {
          "base_uri": "https://localhost:8080/"
        },
        "id": "uW63tZKbxo2r",
        "outputId": "7004ee96-ef86-4604-a44c-655bcde83006"
      },
      "execution_count": null,
      "outputs": [
        {
          "output_type": "stream",
          "name": "stdout",
          "text": [
            "0    7397\n",
            "1     165\n",
            "Name: target, dtype: int64\n",
            "0    1850\n",
            "1      41\n",
            "Name: target, dtype: int64\n"
          ]
        }
      ]
    },
    {
      "cell_type": "markdown",
      "source": [
        "we recognize here that the target data is imbalanced, so we will need to scale the data."
      ],
      "metadata": {
        "id": "GCjPXv6LyARq"
      }
    },
    {
      "cell_type": "markdown",
      "source": [
        "### Oversampling data"
      ],
      "metadata": {
        "id": "PKzSyEMCydIN"
      }
    },
    {
      "cell_type": "markdown",
      "source": [
        "We will over sample the training data only. By oversampling only on the training data, none of the information in the testing data is being used to create synthetic observations. So these results should be generalizable."
      ],
      "metadata": {
        "id": "StQTGHcPzWYo"
      }
    },
    {
      "cell_type": "code",
      "source": [
        "# Balance the data using SMOTE\n",
        "y_train = y_train.astype('int')\n",
        "oversample = SMOTE(random_state=11)\n",
        "X_balanced, y_balanced = oversample.fit_resample(X_train, y_train)\n",
        "print(Counter(y_balanced))"
      ],
      "metadata": {
        "id": "dHtqRdIT1kZh",
        "colab": {
          "base_uri": "https://localhost:8080/"
        },
        "outputId": "1e6bd626-3a8b-4657-9c87-985fad39173b"
      },
      "execution_count": null,
      "outputs": [
        {
          "output_type": "stream",
          "name": "stdout",
          "text": [
            "SMOTE: Counter({0: 7397, 1: 7397})\n"
          ]
        }
      ]
    },
    {
      "cell_type": "markdown",
      "source": [
        "Now the train data is balanced."
      ],
      "metadata": {
        "id": "LaOCqqe-DKS5"
      }
    },
    {
      "cell_type": "markdown",
      "source": [
        "## Modeling"
      ],
      "metadata": {
        "id": "-De9gqApPv7N"
      }
    },
    {
      "cell_type": "code",
      "source": [
        "classifiers = {\n",
        "    \"LogisticRegression\" : LogisticRegression(),\n",
        "    \"KNeighbors\" : KNeighborsClassifier(),\n",
        "    \"SVC\" : SVC(),\n",
        "    \"DecisionTree\" : DecisionTreeClassifier(),\n",
        "    \"RandomForest\" : RandomForestClassifier()\n",
        "}"
      ],
      "metadata": {
        "id": "S0CMJGx4Ca8w"
      },
      "execution_count": null,
      "outputs": []
    },
    {
      "cell_type": "code",
      "source": [
        "#Compute the training score of each models\n",
        "y_test = y_test.astype('int')\n",
        "train_scores = []\n",
        "test_scores = []\n",
        "for key, classifier in classifiers.items():\n",
        "    classifier.fit(X_balanced, y_balanced)\n",
        "    train_score = round(classifier.score(X_balanced, y_balanced),3)\n",
        "    train_scores.append(train_score)\n",
        "    test_score = round(classifier.score(X_test, y_test),3)\n",
        "    test_scores.append(test_score)\n",
        "print(train_scores)\n",
        "print(test_scores)"
      ],
      "metadata": {
        "colab": {
          "base_uri": "https://localhost:8080/"
        },
        "id": "MHUtbT9sMfUm",
        "outputId": "8c44ea8d-dc9f-4bf9-d572-58874e482674"
      },
      "execution_count": null,
      "outputs": [
        {
          "output_type": "stream",
          "name": "stdout",
          "text": [
            "[0.779, 0.968, 0.971, 1.0, 1.0]\n",
            "[0.786, 0.893, 0.932, 0.953, 0.978]\n"
          ]
        }
      ]
    },
    {
      "cell_type": "markdown",
      "source": [
        "* It seems that Logistic Regression doesn’t work well for the dataset as the scores are relatively low (around 75%).\n",
        "\n",
        "* Decision Tree and Random Forest produced a significantly high accuracy scores on the train sets (100%) and test set accuracy (around 97.8% for the Random Forest)."
      ],
      "metadata": {
        "id": "qmyXYGL-jGVT"
      }
    },
    {
      "cell_type": "code",
      "source": [
        "# Built the model\n",
        "clf = XGBClassifier(max_depth=12,\n",
        "                   n_estimators=250,\n",
        "                   min_child_weight=8, \n",
        "                   subsample=0.8, \n",
        "                   learning_rate=0.02,    \n",
        "                   seed=42)\n",
        "\n",
        "# Fit your model\n",
        "clf.fit(X_balanced, y_balanced)\n",
        "\n",
        "# Prediction\n",
        "y_predict = clf.predict(X_test)\n",
        "     "
      ],
      "metadata": {
        "id": "pYDwhAJIc1kr"
      },
      "execution_count": null,
      "outputs": []
    },
    {
      "cell_type": "code",
      "source": [
        "# Create table to store the Evaluations (Accuracy, Presicion, Recall, F1_score)\n",
        "result_table = pd.DataFrame(columns=['Accuracy', 'Presicion', 'Recall', 'F1_score'])\n",
        "result_table = result_table.append({'Clf': 'XGBoost',\n",
        "                                    'Accuracy': accuracy_score(y_test, y_predict),\n",
        "                                    'Presicion': precision_score(y_test, y_predict, average='weighted'),\n",
        "                                    'Recall': recall_score(y_test, y_predict, average='weighted'),\n",
        "                                    'F1_score': f1_score(y_test, y_predict, average='weighted')}, ignore_index=True)\n",
        "result_table.set_index('Clf', inplace=True)\n",
        "\n",
        "result_table.T"
      ],
      "metadata": {
        "colab": {
          "base_uri": "https://localhost:8080/",
          "height": 175
        },
        "id": "9EMP37LXdHw6",
        "outputId": "39eecd02-713a-4c68-8f63-60bb30ad0c89"
      },
      "execution_count": null,
      "outputs": [
        {
          "output_type": "execute_result",
          "data": {
            "text/plain": [
              "Clf        XGBoost\n",
              "Accuracy      0.98\n",
              "Presicion     0.97\n",
              "Recall        0.98\n",
              "F1_score      0.97"
            ],
            "text/html": [
              "\n",
              "  <div id=\"df-4874f573-c4df-4fef-aed1-adf7b84cb6d4\">\n",
              "    <div class=\"colab-df-container\">\n",
              "      <div>\n",
              "<style scoped>\n",
              "    .dataframe tbody tr th:only-of-type {\n",
              "        vertical-align: middle;\n",
              "    }\n",
              "\n",
              "    .dataframe tbody tr th {\n",
              "        vertical-align: top;\n",
              "    }\n",
              "\n",
              "    .dataframe thead th {\n",
              "        text-align: right;\n",
              "    }\n",
              "</style>\n",
              "<table border=\"1\" class=\"dataframe\">\n",
              "  <thead>\n",
              "    <tr style=\"text-align: right;\">\n",
              "      <th>Clf</th>\n",
              "      <th>XGBoost</th>\n",
              "    </tr>\n",
              "  </thead>\n",
              "  <tbody>\n",
              "    <tr>\n",
              "      <th>Accuracy</th>\n",
              "      <td>0.98</td>\n",
              "    </tr>\n",
              "    <tr>\n",
              "      <th>Presicion</th>\n",
              "      <td>0.97</td>\n",
              "    </tr>\n",
              "    <tr>\n",
              "      <th>Recall</th>\n",
              "      <td>0.98</td>\n",
              "    </tr>\n",
              "    <tr>\n",
              "      <th>F1_score</th>\n",
              "      <td>0.97</td>\n",
              "    </tr>\n",
              "  </tbody>\n",
              "</table>\n",
              "</div>\n",
              "      <button class=\"colab-df-convert\" onclick=\"convertToInteractive('df-4874f573-c4df-4fef-aed1-adf7b84cb6d4')\"\n",
              "              title=\"Convert this dataframe to an interactive table.\"\n",
              "              style=\"display:none;\">\n",
              "        \n",
              "  <svg xmlns=\"http://www.w3.org/2000/svg\" height=\"24px\"viewBox=\"0 0 24 24\"\n",
              "       width=\"24px\">\n",
              "    <path d=\"M0 0h24v24H0V0z\" fill=\"none\"/>\n",
              "    <path d=\"M18.56 5.44l.94 2.06.94-2.06 2.06-.94-2.06-.94-.94-2.06-.94 2.06-2.06.94zm-11 1L8.5 8.5l.94-2.06 2.06-.94-2.06-.94L8.5 2.5l-.94 2.06-2.06.94zm10 10l.94 2.06.94-2.06 2.06-.94-2.06-.94-.94-2.06-.94 2.06-2.06.94z\"/><path d=\"M17.41 7.96l-1.37-1.37c-.4-.4-.92-.59-1.43-.59-.52 0-1.04.2-1.43.59L10.3 9.45l-7.72 7.72c-.78.78-.78 2.05 0 2.83L4 21.41c.39.39.9.59 1.41.59.51 0 1.02-.2 1.41-.59l7.78-7.78 2.81-2.81c.8-.78.8-2.07 0-2.86zM5.41 20L4 18.59l7.72-7.72 1.47 1.35L5.41 20z\"/>\n",
              "  </svg>\n",
              "      </button>\n",
              "      \n",
              "  <style>\n",
              "    .colab-df-container {\n",
              "      display:flex;\n",
              "      flex-wrap:wrap;\n",
              "      gap: 12px;\n",
              "    }\n",
              "\n",
              "    .colab-df-convert {\n",
              "      background-color: #E8F0FE;\n",
              "      border: none;\n",
              "      border-radius: 50%;\n",
              "      cursor: pointer;\n",
              "      display: none;\n",
              "      fill: #1967D2;\n",
              "      height: 32px;\n",
              "      padding: 0 0 0 0;\n",
              "      width: 32px;\n",
              "    }\n",
              "\n",
              "    .colab-df-convert:hover {\n",
              "      background-color: #E2EBFA;\n",
              "      box-shadow: 0px 1px 2px rgba(60, 64, 67, 0.3), 0px 1px 3px 1px rgba(60, 64, 67, 0.15);\n",
              "      fill: #174EA6;\n",
              "    }\n",
              "\n",
              "    [theme=dark] .colab-df-convert {\n",
              "      background-color: #3B4455;\n",
              "      fill: #D2E3FC;\n",
              "    }\n",
              "\n",
              "    [theme=dark] .colab-df-convert:hover {\n",
              "      background-color: #434B5C;\n",
              "      box-shadow: 0px 1px 3px 1px rgba(0, 0, 0, 0.15);\n",
              "      filter: drop-shadow(0px 1px 2px rgba(0, 0, 0, 0.3));\n",
              "      fill: #FFFFFF;\n",
              "    }\n",
              "  </style>\n",
              "\n",
              "      <script>\n",
              "        const buttonEl =\n",
              "          document.querySelector('#df-4874f573-c4df-4fef-aed1-adf7b84cb6d4 button.colab-df-convert');\n",
              "        buttonEl.style.display =\n",
              "          google.colab.kernel.accessAllowed ? 'block' : 'none';\n",
              "\n",
              "        async function convertToInteractive(key) {\n",
              "          const element = document.querySelector('#df-4874f573-c4df-4fef-aed1-adf7b84cb6d4');\n",
              "          const dataTable =\n",
              "            await google.colab.kernel.invokeFunction('convertToInteractive',\n",
              "                                                     [key], {});\n",
              "          if (!dataTable) return;\n",
              "\n",
              "          const docLinkHtml = 'Like what you see? Visit the ' +\n",
              "            '<a target=\"_blank\" href=https://colab.research.google.com/notebooks/data_table.ipynb>data table notebook</a>'\n",
              "            + ' to learn more about interactive tables.';\n",
              "          element.innerHTML = '';\n",
              "          dataTable['output_type'] = 'display_data';\n",
              "          await google.colab.output.renderOutput(dataTable, element);\n",
              "          const docLink = document.createElement('div');\n",
              "          docLink.innerHTML = docLinkHtml;\n",
              "          element.appendChild(docLink);\n",
              "        }\n",
              "      </script>\n",
              "    </div>\n",
              "  </div>\n",
              "  "
            ]
          },
          "metadata": {},
          "execution_count": 443
        }
      ]
    }
  ]
}